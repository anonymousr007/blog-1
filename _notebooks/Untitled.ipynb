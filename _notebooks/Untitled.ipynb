{
 "cells": [
  {
   "cell_type": "code",
   "execution_count": null,
   "id": "5e8b3240-169d-49e2-a102-fd4cf842b7df",
   "metadata": {},
   "outputs": [],
   "source": [
    "from qiskit import Par"
   ]
  },
  {
   "cell_type": "code",
   "execution_count": 9,
   "id": "12356742-2a16-4dd8-8264-526929440bf5",
   "metadata": {},
   "outputs": [
    {
     "data": {
      "image/png": "[encoded data removed]",
      "text/plain": [
       "<Figure size 133.526x84.28 with 1 Axes>"
      ]
     },
     "execution_count": 9,
     "metadata": {},
     "output_type": "execute_result"
    }
   ],
   "source": [
    "qc = QuantumCircuit(1)\n",
    "a1, a2, a3 = [Parameter(a) for a in ['a1', 'a2', 'a3']]\n",
    "b1, b2, b3 = [Parameter(b) for b in ['b1', 'b2', 'b3']]\n",
    "c1, c2, c3 = [Parameter(c) for c in ['c1', 'c2', 'c3']]\n",
    "qc.u3(c1, c2, c3, 0)\n",
    "# qc.u3(b1, b2, b3, 0)\n",
    "qc.draw(output='mpl')"
   ]
  }
 ],
 "metadata": {
  "kernelspec": {
   "display_name": "Python 3",
   "language": "python",
   "name": "python3"
  },
  "language_info": {
   "codemirror_mode": {
    "name": "ipython",
    "version": 3
   },
   "file_extension": ".py",
   "mimetype": "text/x-python",
   "name": "python",
   "nbconvert_exporter": "python",
   "pygments_lexer": "ipython3",
   "version": "3.8.10"
  },
  "widgets": {
   "application/vnd.jupyter.widget-state+json": {
    "state": {},
    "version_major": 2,
    "version_minor": 0
   }
  }
 },
 "nbformat": 4,
 "nbformat_minor": 5
}
