{
 "cells": [
  {
   "cell_type": "markdown",
   "metadata": {},
   "source": [
    "# How this blog was set up?\n",
    ">Smoothly with fastpages. With a couple of caveats.\n",
    "\n",
    "- toc: true \n",
    "- badges: true\n",
    "- comments: true\n",
    "- categories: [fastpages]\n",
    "- image: "
   ]
  },
  {
   "cell_type": "markdown",
   "metadata": {},
   "source": [
    "The [official installation](https://github.com/fastai/fastpages#setup-instructions) worked fine for me. While customizing the blog fro my purposes several issues were not obvious\n",
    "1. I wanted to use number equations which are not easily supported. This [comment](https://forums.fast.ai/t/consider-setting-use-math-to-true-by-default/64276/6) solved my problem!\n",
    "1. You need to edit `_pages/about.md` to customize the way your \"about\" page is displayed.\n",
    "1. To customize the front page you need to edit `index.html`. This is literally written on the front page of your blog, but I have not noticed it for a while.\n",
    "1. Initially a lot of troubleshooting is needed to get the appearance of the blog I wanted. Commiting and waiting for the online web page to set up is slowing this down. Here is an [official guide](https://github.com/fastai/fastpages/blob/master/_fastpages_docs/DEVELOPMENT.md#converting-the-pages-locally) on how to setup a live preview of your blog locally. One minor point that was a problem for me is that the default server  https://127.0.0.1:4000 was not correct. After running `sudo make server` one of the outputs that `jekyll` produces is `Server address:` http://0.0.0.0:4000/blog/ which was the correct address for the live preview of my blog."
   ]
  }
 ],
 "metadata": {
  "kernelspec": {
   "display_name": "Python 3",
   "language": "python",
   "name": "python3"
  },
  "language_info": {
   "codemirror_mode": {
    "name": "ipython",
    "version": 3
   },
   "file_extension": ".py",
   "mimetype": "text/x-python",
   "name": "python",
   "nbconvert_exporter": "python",
   "pygments_lexer": "ipython3",
   "version": "3.8.10"
  },
  "varInspector": {
   "cols": {
    "lenName": 16,
    "lenType": 16,
    "lenVar": 40
   },
   "kernels_config": {
    "python": {
     "delete_cmd_postfix": "",
     "delete_cmd_prefix": "del ",
     "library": "var_list.py",
     "varRefreshCmd": "print(var_dic_list())"
    },
    "r": {
     "delete_cmd_postfix": ") ",
     "delete_cmd_prefix": "rm(",
     "library": "var_list.r",
     "varRefreshCmd": "cat(var_dic_list()) "
    }
   },
   "types_to_exclude": [
    "module",
    "function",
    "builtin_function_or_method",
    "instance",
    "_Feature"
   ],
   "window_display": false
  }
 },
 "nbformat": 4,
 "nbformat_minor": 4
}
