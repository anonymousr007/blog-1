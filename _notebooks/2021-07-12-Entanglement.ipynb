{
 "cells": [
  {
   "cell_type": "markdown",
   "metadata": {},
   "source": [
    "# What is quantum entanglement?\n",
    "> Why is entanglement non-classical?\n",
    "\n",
    "- toc: true \n",
    "- badges: true\n",
    "- comments: true\n",
    "- categories: [quantum concepts]\n",
    "- image: images/chart-preview.png"
   ]
  },
  {
   "cell_type": "markdown",
   "metadata": {},
   "source": [
    "# Entanglement\n",
    "\n",
    "So what is entanglement? Entanglement is what entangled states have. What are those? Take two spins. The state \n",
    "\n",
    "\\begin{equation}\n",
    "\\frac1{\\sqrt{2}}\\Big(|\\uparrow\\uparrow\\rangle+|\\downarrow\\downarrow\\rangle\\Big) \\label{bell}\n",
    "\\end{equation}\n",
    "\n",
    "\n",
    "is your canonical example of an entangled stated. In contrast, all the states below are *unentangled* \n",
    "\\begin{align}\n",
    "|\\uparrow\\uparrow\\rangle,\\qquad |\\downarrow\\uparrow\\rangle,\\qquad \\frac1{\\sqrt{2}}|\\uparrow\\rangle\\Big(\\uparrow\\rangle-|\\downarrow\\rangle\\Big),\\qquad \\frac1{\\sqrt{2}}\\Big(|\\uparrow\\rangle-|\\downarrow\\rangle\\Big)\\Big(\\uparrow\\rangle+|\\downarrow\\rangle\\Big) \\label{unen} \n",
    "\\end{align}\n",
    "\n",
    "The difference between \\eqref{bell} and \\eqref{unen} is that all latter states are actually products of the form $|\\psi_1\\rangle |\\psi_2\\rangle$ while the state \\eqref{bell} **can not** be represented in such form. You can *define* entangled states by this property of not being factorizible into wavefunctions of consistuent spins.\n",
    "\n",
    "A perfectly reasonable question to ask is \"so what\"? Why are entangled states special? Personally I was aware of this formal aspect of entanglement for years, but I only asked the latter pragmatic question when exposed to quantum computations. Answers one can give to this \"so what\" question are numerous and most of them very interesting. I will only consider two.\n",
    "\n",
    "## In an entangled states the qubits are fundamentally connected\n",
    "One need some qualifiers to explain this."
   ]
  }
 ],
 "metadata": {
  "kernelspec": {
   "display_name": "Python 3",
   "language": "python",
   "name": "python3"
  },
  "language_info": {
   "codemirror_mode": {
    "name": "ipython",
    "version": 3
   },
   "file_extension": ".py",
   "mimetype": "text/x-python",
   "name": "python",
   "nbconvert_exporter": "python",
   "pygments_lexer": "ipython3",
   "version": "3.8.10"
  },
  "varInspector": {
   "cols": {
    "lenName": 16,
    "lenType": 16,
    "lenVar": 40
   },
   "kernels_config": {
    "python": {
     "delete_cmd_postfix": "",
     "delete_cmd_prefix": "del ",
     "library": "var_list.py",
     "varRefreshCmd": "print(var_dic_list())"
    },
    "r": {
     "delete_cmd_postfix": ") ",
     "delete_cmd_prefix": "rm(",
     "library": "var_list.r",
     "varRefreshCmd": "cat(var_dic_list()) "
    }
   },
   "types_to_exclude": [
    "module",
    "function",
    "builtin_function_or_method",
    "instance",
    "_Feature"
   ],
   "window_display": false
  }
 },
 "nbformat": 4,
 "nbformat_minor": 4
}
