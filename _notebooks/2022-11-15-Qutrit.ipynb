{
 "cells": [
  {
   "cell_type": "markdown",
   "metadata": {
    "tags": []
   },
   "source": [
    "# Decomposition of a general single--qutrit gate\n",
    "> And a couple of words about Euler's and KAK decompositions\n",
    "- toc: true \n",
    "- badges: true\n",
    "- comments: true\n",
    "- categories: [quantum concepts, compilation]\n",
    "- image: images/relative_toffoli.png"
   ]
  },
  {
   "cell_type": "code",
   "execution_count": 3,
   "metadata": {},
   "outputs": [],
   "source": [
    "#collapse\n",
    "import numpy as np\n",
    "from scipy.stats import unitary_group"
   ]
  },
  {
   "cell_type": "markdown",
   "metadata": {},
   "source": [
    "# What this post is about"
   ]
  },
  {
   "cell_type": "markdown",
   "metadata": {},
   "source": [
    "The main purpose of this post is to give an explicit formula for decomposition of an arbitrary single-qutrit gate. If you want to cut to the chase, proceed to [summary and implementation](#summary-and-implementation). The idea is explaine asdfThe decomposition is drawn in [here](#decomposition-refinenmet) and sloppily implemented [here](#implementation).\n",
    "\n",
    "For context I also cover Euler's decomposition of the single-qubit gates and give a brief motivation below.\n",
    "\n",
    "So, why care about qutrits? Well, first thing to note is that they exist. In the real world, in contrast to most quantum textbooks, physical system are not just two-level but can have many, or even infinite amount of levels. One prominent example is cold atoms"
   ]
  },
  {
   "cell_type": "markdown",
   "metadata": {
    "tags": []
   },
   "source": [
    "# Euler's decomposition of an arbitrary single-qubit gate"
   ]
  },
  {
   "cell_type": "markdown",
   "metadata": {},
   "source": [
    "## Elementary single-qubit rotations\n",
    "Me (and probably you too) usually take for granted that an arbitrary single-qubit gate $U$ can be decomposed into a product of three elementary rotations. The rotations are usually chosen as\n",
    "\n",
    "\\begin{align}\n",
    "&R_X(\\theta)=e^{-i\\theta X/2}=\\begin{pmatrix} \\cos\\frac{\\theta}2 & -i\\sin\\frac{\\theta}2 \\\\  -i\\sin\\frac{\\theta}2 & \\cos\\frac{\\theta}2\\end{pmatrix}\\\\\n",
    "&R_Y(\\theta)=e^{-i\\theta Y/2}=\\begin{pmatrix} \\cos\\frac{\\theta}2 & -\\sin\\frac{\\theta}2 \\\\  \\sin\\frac{\\theta}2 & \\cos\\frac{\\theta}2\\end{pmatrix}\\\\\n",
    "&R_Z(\\theta)=e^{-i\\theta Z/2}=\\begin{pmatrix} e^{-i \\theta/2} & 0 \\\\ 0 & e^{i\\theta/2}\\end{pmatrix}\n",
    "\\end{align}\n",
    "\n",
    "and a sample decomposition reads\n",
    "\n",
    "$$U = R_X(\\theta_1)R_Z(\\theta_2)R_X(\\theta_3) \\label{XZX}$$\n",
    "\n",
    "This is known as the Euler decomposition. Choosing angles $\\theta_i$ appropriately one can obtain any $2\\times 2$ special (with unit determinant) unitary matrix $U\\in SU(2)$. \n",
    "\n",
    "## Making sense of Euler's decomposition\n",
    "Let me make a couple of remarks in an attempt to make relation \\eqref{XZX} a bit more intuitive. First of all, the dimension of the group $U(n)$, i.e. a group of  $n\\times n$ unitary matrices is equal to\n",
    "$$\\operatorname{dim} U(n)=n^2 \\ .$$\n",
    "If you also factor out the global phase, i.e. impose $\\operatorname{det}U=1$ you get the special unitary group $SU(n)$ which has one dimension less\n",
    "$$\\operatorname{dim} SU(n)=n^2-1\\ .$$\n",
    "For $n=2$, corresponding to a single-qubit gate, $\\operatorname{dim}=3$. This implies that the right-hand side in eq.\\eqref{XZX} needs to have at least three parameters and hence three elementary rotations. Good, this explains why are there three terms in Euler's decomposition. (This technique of unsubtle parameter counting in fact extends far more generally. For example, it can be used to deduce a minimum amount of $CNOT$ gates necessary to compile an arbitrary $n$-qubit unitary, as I discussed [here](https://idnm.github.io/blog/machine%20learning/compilation/qiskit/paper%20review/2021/07/22/Machine-learning-compilation-of-quantum-circuits.html#Theoretical-lower-bound-and-quantum-Shannon-decomposition)).\n",
    "\n",
    "## A word about Cartan decomposition (KAK)\n",
    "Now, is there anything special about this particular combination of rotations $XZX$? Well, yes and no. In fact, almost any three single-parameter unitaries would work. Other possible decompositions are $XYX$, $YZY$ etc, but also less common options exist such as $XYZ$. \n",
    "\n",
    "However, decompositions like $XZX$ are special in a sense that they are examples of Cartan (aka KAK) decompositions, hinging on the structure of the underlying $su(2)$ algebra. Decompositions of two-qubit gates into $CNOT$ gates and single-qubit rotations is another important example where KAK arise. I will not cover the subject here, but can recommend a quite readable introduction with applications to quantum gates [https://arxiv.org/abs/quant-ph/0010100](https://arxiv.org/abs/quant-ph/0010100).\n",
    "\n",
    "\n",
    "## Finding angles in Euler's decomposition\n",
    "\n",
    "I have not told you yet how to find angles in the Euler decomposition, so here we go. The key observation is that because $XZ=-XZ$ we have\n",
    "$$X R_Z(\\theta)X=R_Z(-\\theta),\\quad X R_X(\\theta)X=R_X(\\theta) \\ .$$\n",
    "Multiplying \\eqref{XZX} by $X$ from left and right we get\n",
    "$$XUX=R_X(\\theta_1)R_Z(-\\theta_2)R_X(\\theta_3) \\ .$$\n",
    "Therefore,\n",
    "$$M:= UXU^\\dagger X=R_x(\\theta_1)R_Z(2\\theta_2)R_x^\\dagger(\\theta_1) \\ .$$\n",
    "\n",
    "Since $R_Z$ is a diagonal gate, the right hand side is nothing else but a unitary diagonalization of matrix $M$. Therefore, finding $\\theta_1$ and $\\theta_2$ reduces to the standard diagonalization procedure. The last parameter $\\theta_3$ is then read off from $R_X(\\theta_3)=R_Z^\\dagger(\\theta_2) R_X^\\dagger(\\theta_1)U$. \n",
    "\n",
    "\n",
    "Here is a quick and dirty code that implements the procedure. It won't handle some edge cases and may not be the most efficient, but I'll be happy with it's performance on random unitaries."
   ]
  },
  {
   "cell_type": "code",
   "execution_count": 4,
   "metadata": {},
   "outputs": [],
   "source": [
    "# Define X, RX, and RZ.\n",
    "\n",
    "X = np.array([[0, 1], [1, 0]])\n",
    "\n",
    "def RX(theta):\n",
    "    return np.array([[np.cos(theta/2), -1j*np.sin(theta/2)],[-1j*np.sin(theta/2), np.cos(theta/2)]])\n",
    "\n",
    "def RZ(theta):\n",
    "    return np.array([[np.exp(-1j*theta/2), 0],[0, np.exp(1j*theta/2)]])\n",
    "\n",
    "# Recovering angle from a cos and sine.\n",
    "def angle_from_cos_and_sin(c, s):\n",
    "    assert np.allclose(c**2+s**2, 1), 'Input does not satisfy c**2+s**2=1'\n",
    "    phi = np.arccos(c)\n",
    "    if np.allclose(np.sin(phi), s):\n",
    "        return phi\n",
    "    else:\n",
    "        return -phi\n",
    "        \n",
    "\n",
    "# Decomposition routine.\n",
    "\n",
    "def XZX_decomposition(U):\n",
    "    \n",
    "    assert np.allclose(U.conj().T @ U, np.eye(2)), 'Input matrix is not unitary.'\n",
    "    assert np.allclose(np.linalg.det(U), 1), 'Input matrix has non-unit determinant.'\n",
    "    \n",
    "    \n",
    "    # Construct the matrix to diagonalize.\n",
    "    M = U @ X @ U.conj().T @ X\n",
    "    \n",
    "    # Diagonalization.\n",
    "    RZ_squared, RX1 = np.linalg.eig(M)\n",
    "    assert np.allclose(RX1 @ np.diag(RZ_squared) @ RX1.conj().T, M)\n",
    "    \n",
    "    # Matrix RX1 is not necessarily of RX(theta) form yet, but it can be made so by multiplying with a diagonal unitary.\n",
    "    phase_00 = RX1[0, 0]/np.abs(RX1[0, 0])\n",
    "    RX1 /= phase_00 # Now RX1[0,0] is real and RX[1,0] has the correct phase.\n",
    "    phase_10 = RX1[1, 0]/np.abs(RX1[1, 0])\n",
    "    phase_01 = RX1[0, 1]/np.abs(RX1[0, 1])\n",
    "    \n",
    "    RX1 = RX1 @ np.diag([1, phase_10/phase_01]) # Now RX1[0,1] and RX1[1,1] have the correct phase as well.\n",
    "    \n",
    "    # Determine theta_1.\n",
    "    cos = RX1[0, 0]\n",
    "    sin = 1j*RX1[0, 1]\n",
    "    theta_1 = 2*angle_from_cos_and_sin(cos, sin)\n",
    "    assert np.allclose(RX(theta_1), RX1)\n",
    "\n",
    "    # Theta_2 from RZ squared.\n",
    "    theta_2 = 1j*np.log(RZ_squared[0]) \n",
    "    assert np.allclose(RZ(theta_2), RZ(theta_2))\n",
    "        \n",
    "    # Determine RX(theta_3) and theta_3. \n",
    "    RX2 = RZ(-theta_2) @ RX(-theta_1) @ U\n",
    "    cos = RX2[0, 0]\n",
    "    sin = 1j*RX2[0, 1]\n",
    "    theta_3 = 2*angle_from_cos_and_sin(cos, sin)\n",
    "    \n",
    "    assert np.allclose(RX(theta_3), RX2)\n",
    "\n",
    "    if np.allclose(RX(theta_1) @ RZ(theta_2) @ RX(theta_3), U):\n",
    "        return theta_1, theta_2, theta_3\n",
    "\n",
    "    raise TypeError('Something went wrong during decomposition.')"
   ]
  },
  {
   "cell_type": "markdown",
   "metadata": {},
   "source": [
    "And now let's test."
   ]
  },
  {
   "cell_type": "code",
   "execution_count": 5,
   "metadata": {},
   "outputs": [
    {
     "name": "stdout",
     "output_type": "stream",
     "text": [
      "Does it work? True\n"
     ]
    }
   ],
   "source": [
    "# Draw a random unitary and normalize its det to 1.\n",
    "U = unitary_group.rvs(2, random_state=0) \n",
    "U = U / np.linalg.det(U)**(1/2) \n",
    "\n",
    "# Decompose and check\n",
    "theta_1, theta_2, theta_3 = XZX_decomposition(U)\n",
    "check = np.allclose(RX(theta_1) @ RZ(theta_2) @ RX(theta_3), U)\n",
    "\n",
    "print(f'Does it work? {check}')"
   ]
  },
  {
   "cell_type": "markdown",
   "metadata": {},
   "source": [
    "From $XZX$ decompositions we can get related ones. For example, since $HXH=Z$ and $HZH=X$ we $XZX$ decomposition for $HUH$ is in fact the $ZXZ$ decomposition for $U$. We'll need it a bit later so let's implement that one also."
   ]
  },
  {
   "cell_type": "code",
   "execution_count": 6,
   "metadata": {},
   "outputs": [],
   "source": [
    "def ZXZ_decomposition(U):\n",
    "    H = np.array([[1, 1], [1, -1]])/np.sqrt(2)\n",
    "    return XZX_decomposition(H@U@H)"
   ]
  },
  {
   "cell_type": "markdown",
   "metadata": {},
   "source": [
    "A simple check."
   ]
  },
  {
   "cell_type": "code",
   "execution_count": 7,
   "metadata": {},
   "outputs": [
    {
     "name": "stdout",
     "output_type": "stream",
     "text": [
      "Check: True\n"
     ]
    }
   ],
   "source": [
    "U = unitary_group.rvs(2, random_state=2)\n",
    "U /= np.sqrt(np.linalg.det(U))\n",
    "\n",
    "theta_1, theta_2, theta_3 = ZXZ_decomposition(U)\n",
    "print('Check:', np.allclose(RZ(theta_1) @ RX(theta_2) @ RZ(theta_3), U))"
   ]
  },
  {
   "cell_type": "markdown",
   "metadata": {
    "tags": []
   },
   "source": [
    "# Decomposing arbitrary single-qutrit gate"
   ]
  },
  {
   "cell_type": "markdown",
   "metadata": {
    "tags": []
   },
   "source": [
    "## Elementary qutrit gates\n",
    "Qutrit is an abstraction for any three-level quantum system and it's is probably less familiar than a qubit. General qutrit gate belongs to $SU(3)$ and elementary rotation gates for a qutrit are commonly chosen as \n",
    "\\begin{align}\n",
    "R^{01}_X(\\theta)=\\begin{pmatrix}\\cos\\frac{\\theta}2&-i\\sin\\frac{\\theta}2&0\\\\-i\\sin\\frac{\\theta}2&\\cos\\frac{\\theta}2&0\\\\0&0&1\\end{pmatrix},\\quad \n",
    "R^{01}_Z(\\theta)=\\begin{pmatrix}e^{-i\\theta/2}&0&0\\\\0&e^{i\\theta/2}&0\\\\0&0&1\\end{pmatrix} \\ ,\n",
    "\\end{align}\n",
    "\n",
    "and\n",
    "\n",
    "\\begin{align}\n",
    "R^{12}_X(\\theta)=\\begin{pmatrix}1&0&0\\\\0&cos\\frac{\\theta}2&-i\\sin\\frac{\\theta}2\\\\0&-i\\sin\\frac{\\theta}2&\\cos\\frac{\\theta}2\\end{pmatrix},\\quad \n",
    "R^{12}_Z(\\theta)=\\begin{pmatrix}1&0&0\\\\0&e^{-i\\theta/2}&0\\\\0&0&e^{i\\theta/2}\\end{pmatrix} \\ .\n",
    "\\end{align}\n",
    "\n",
    "Similar expression hold to $R_Y^{01}$ and $R_Y^{12}$ but we won't need them. And by the way gates that act only on levels 1 and 3 look bit awkward, and happily we can avoid them.\n",
    "## Is there a an off-the-shelf result? (I'm bad at googling)\n",
    "A general single-qutrit transformation lives in $SU(3)$ and hence has $3^2-1=8$ real parameters. Thus, we expect to have a decomposition which is a product of 8 elementary rotations. But how exactly will it look, and how to determine the parameters? To my surprise, the only explicit result I found is equation (4) in this paper [https://arxiv.org/abs/1105.5485](https://arxiv.org/abs/1105.5485) which goes something like\n",
    "$$U = R_Y^{01}R_Y^{02}R_Y^{01}R_Z^{01}R_Z^{02}R_Y^{01}R_Y^{02}R_Y^{01} \\ .$$\n",
    "\n",
    "The result is based on a particular Cartan decomposition of $SU(3)$ (which is non-unique) and does not look very intuitive. Moreover, apparently no explicit algorithm to find the parameters of these rotations (which I omitted in the equation) is given.\n",
    "\n",
    "## Decomposition sketch\n",
    "I will now give another explicit decomposition for a general single-qutrit gate with elementary derivation and explicit procedure to compute the parameters. I begin with separating general $U\\in SU(3)$ into four blocks\n",
    "$$U=\\begin{pmatrix}A&B\\\\C&D\\end{pmatrix}=\\begin{pmatrix} a_{00}& a_{01} & b_0\\\\ a_{10} & a_{11} & b_1\\\\ c_0&c_1&d\\end{pmatrix} \\ .$$\n",
    "\n",
    "Here $A$ is a $2\\times2$ matrix, $B$ and $C^\\dagger$ are column vectors and $D$ is a scalar. Now let us factorize matrix $A$ using the [singular value decomposition](https://en.wikipedia.org/wiki/Singular_value_decomposition) (SVD) \n",
    "$$A = V \\Sigma W \\ . \\label{A SVD}$$\n",
    "Here $V$ and $W$ are unitary, while $\\Sigma=\\operatorname{diag}(\\sigma_0,\\sigma_1)$ is diagonal with $\\sigma_i\\ge0$. SVD is a very useful  factorization that works for arbitrary matrices, not necessarily hermitian or unitary (or even square). Using SVD of $A$ we can factorize $U$ as follows\n",
    "$$U=\\begin{pmatrix}V&0\\\\0&1\\end{pmatrix}\\begin{pmatrix}\\Sigma&V^\\dagger B\\\\ CW^\\dagger&D\\end{pmatrix}\\begin{pmatrix}W&0\\\\0&1\\end{pmatrix}=V^{01}\\begin{pmatrix}\\Sigma&V^\\dagger B\\\\ CW^\\dagger&D\\end{pmatrix}W^{01} \\label{U part} \\ .$$\n",
    "The left and right matrices act only within the first two levels. The middle matrix looks like it acts on all levels of the qutrit, but in fact it doesn't. I will leave at as an exercise to show that matrix $A$ necessarily has a unit singular value (Hint: unitarity condition for $U$ implies $A^\\dagger A+C^\\dagger C=\\mathbb{1}$. Because $C$ is a vector $C^\\dagger C$ is not full rank and has a zero eigenvalue). I will assume that $\\sigma_{0}=1$. This has consequences. In a unitary matrix each row and column has a unit norm. Therefore, if some entry in a unitary matrix is equal to one, all other elements in the corresponding row and column must be zero. Thus, the middle matrix in \\eqref{U part} in fact looks like\n",
    "$$H^{12}:=\\begin{pmatrix}1&0&0\\\\ 0&\\sigma_{1}& b'\\\\ 0&c'&d\\end{pmatrix}$$\n",
    "and hence only acts on levels 1 and 2. The overall decomposition can be sketched as follows.\n",
    "\n",
    "<img src=\"myimages/qutrit/qutrit.png\" alt=\"Drawing\" style=\"width: 400px;\"/>\n",
    "\n",
    "Needless to say that the lines here aren't qubits, they are individual levels of the qutrit. \n",
    "\n",
    "Therefore, we have split a general qutrit gate into three gates touching two levels only. Each of these can be further decomposed into three elementary rotations using Euler's method for single-qubit gates. That's good. However, as it stands the decomposition is not optimal.  So far all matrices $V, H, W$ could lie in $U(2)$ and hence have four real parameters. We should be able to do better.\n",
    "\n",
    "## A word about global phases\n",
    "Sure, global phases are normally ignored, and rightfully so, but there are situations where they are important. In our case, a global phase for a two-qubit gate leads to a non-trivial transformation when embedded in a qutrit. For example,\n",
    "$$(e^{i\\phi})^{01}=\\begin{pmatrix}e^{i\\phi}&0&0\\\\0&e^{i\\phi}&0\\\\0&0&1\\end{pmatrix}$$\n",
    "is surely not a global phase for a qutrit. You may try to decompose this gate into the elementary qutrit rotations introduced above+a true global phase gate for a qutrit. The result won't be trivial and actually involve more than one qutrit rotation. Therefore, we will take extra care to avoid global phases in the two-level gates.\n",
    "\n",
    "## Decomposition refinement\n",
    "To refine the decomposition we will use redundancies to impose additional constraints on matrices $V,H,W$. First, let us write $V$ and $W$ in the $ZXZ$ representation $V=e^{i\\phi_V}Z_{1V}X_{V}Z_{2V}, W=e^{i\\phi_W}Z_{1W}X_{W}Z_{2W}$ and substitute this into the SVD of $A$ \\eqref{A SVD}. After grouping together diagonal terms in the middle we get\n",
    "$$A=V'\\left(Z_{1V}X_V\\tilde{Z}\\right)\\left(\\tilde{Z}^\\dagger e^{i\\phi_V}e^{i\\phi_W}Z_{2V}Z_{1W}\\Sigma\\right)\\left(X_{W}Z_{2W}\\right)$$\n",
    "Here $\\tilde{Z}$ is an additional $R_Z$ gate that so far is arbitrary. We will choose it so that middle matrix is of the form $\\Sigma'=\\operatorname{diag}(1,\\sigma_1e^{i\\phi})$ for some phase $\\phi$. We therefore obtain a new factorization\n",
    "$$A=V'\\Sigma'W'$$\n",
    "where both $V'$ and $W'$ have unit determinant and, moreover, $W'$ has only two degrees of freedom $W'=XZ$ (of course one could remove this degree of freedom from $V'$ instead of $W'$). Note that $\\Sigma'$ now has a complex eigenvalue, but this will not be a problem, the important thing is that $\\Sigma'_{00}=1$. This new factorization of $A$ leads to the following decomposition of $U$\n",
    "$$U=(V')^{01} (H')^{12}(W')^{12}$$\n",
    "Because $\\operatorname{det}U=1$ it follows $\\operatorname{det}H'=1$. Therefore, the middle term also needs only three gates to be decomposed."
   ]
  },
  {
   "cell_type": "markdown",
   "metadata": {},
   "source": [
    "## Summary and implementation\n",
    "In the end, we get the following parameter-optimal decomposition of the form\n",
    "<img src=\"myimages/qutrit/decomposition.png\" alt=\"Drawing\" style=\"width: 600px;\"/>\n",
    "\n",
    "The algorithm can be summarized as follows.\n",
    "1. Pick $2\\times2$ submatrix $A$ of unitary $U$ and find its singular value decomposition $A=V \\Sigma W$.\n",
    "1. Factorize $V$ and $W$ via Euler's ZXZ decomposition $V=e^{i\\phi_V}Z_{V1} X_{V} Z_{V2}$, $W=e^{i\\phi_W}Z_{W1} X_{W} Z_{W2}$.\n",
    "1. Define \n",
    "\\begin{align}\n",
    "&V'=Z_{V1} X_V (Z_{V2}\\tilde{Z})\\\\\n",
    "&\\Sigma'=e^{i\\phi_V}e^{i\\phi_W}\\widetilde{Z}^\\dagger \\Sigma Z_{W1}\\\\\n",
    "&W'=X_W Z_{W2}\n",
    "\\end{align}\n",
    "Choose $\\widetilde{Z}$ so that $\\Sigma'_{00}=1$.\n",
    "1. Compute $V'^\\dagger U W'^\\dagger$. It will be of the form $\\begin{pmatrix}1&0&0\\\\0&H'_{00}&H'_{01}\\\\0&H'_{10}&H'_{11} \\end{pmatrix}$ for some matrix $H'\\in SU(2)$.\n",
    "1. Decompose $H'$ via your favorite single-qubit factorization, say $ZXZ$ and voilà.\n",
    "\n",
    "\n",
    "Let's go ahead and implement this decomposition. Again, I will not care about efficiency or potential edge cases."
   ]
  },
  {
   "cell_type": "code",
   "execution_count": 8,
   "metadata": {},
   "outputs": [],
   "source": [
    "# Embedding qubit gates into qutrit.\n",
    "\n",
    "def embed(U_qubit, levels):\n",
    "    U = np.eye(3, dtype=np.complex64)\n",
    "    if levels == '01':\n",
    "        U[:2, :2]=U_qubit\n",
    "    elif levels == '12':\n",
    "        U[1:, 1:]=U_qubit\n",
    "    else:\n",
    "        raise TypeError(f'Levels {levels} not supported.')\n",
    "        \n",
    "    return U\n",
    "\n",
    "# Decomposition routine\n",
    "\n",
    "def qutrit_decomposition(U):\n",
    "    assert np.allclose(U.conj().T @ U, np.eye(3)), 'Input in not unitary.' \n",
    "    assert np.allclose(np.linalg.det(U), 1), 'Input is not special.'\n",
    "    \n",
    "    \n",
    "    A = U[:2, :2] # 2x2 submatrix\n",
    "    V, Sigma, W = np.linalg.svd(A) # Basic SVD\n",
    "    \n",
    "    # Setting det V = det W = 1\n",
    "    phase_V = np.sqrt(np.linalg.det(V))\n",
    "    phase_W = np.sqrt(np.linalg.det(W))\n",
    "    \n",
    "    V /= phase_V\n",
    "    W /= phase_W\n",
    "    \n",
    "    # RZ factor to remove from W\n",
    "    theta_W1, theta_W2, theta_W3 = ZXZ_decomposition(W)\n",
    "    ZW1 = RZ(theta_W1)\n",
    "    \n",
    "    # Computing the middle diagonal matrix\n",
    "    M = phase_V*phase_W*np.diag(Sigma) @ ZW1\n",
    "    M00_phase = -1j*np.log(M[0, 0])\n",
    "    \n",
    "    # Gauge factor to set M[0,0]=1\n",
    "    Z_gauge = RZ(2*M00_phase)\n",
    "    \n",
    "    # Final matrices\n",
    "    V_prime = V @ Z_gauge.conj().T\n",
    "    W_prime = RX(theta_W2) @ RZ(theta_W3)\n",
    "    H_prime_full = embed(V_prime.conj().T, '01') @ U @ embed(W_prime.conj().T, '01')\n",
    "    H_prime = H_prime_full[1:, 1:]\n",
    "    \n",
    "    theta_V1, theta_V2, theta_V3 = ZXZ_decomposition(V_prime)\n",
    "    theta_H1, theta_H2, theta_H3 = ZXZ_decomposition(H_prime)\n",
    "    \n",
    "    return theta_V1, theta_V2, theta_V3, theta_H1, theta_H2, theta_H3, theta_W2, theta_W3"
   ]
  },
  {
   "cell_type": "markdown",
   "metadata": {},
   "source": [
    "And, let's verify."
   ]
  },
  {
   "cell_type": "code",
   "execution_count": 9,
   "metadata": {},
   "outputs": [
    {
     "name": "stdout",
     "output_type": "stream",
     "text": [
      "Does it work? True\n"
     ]
    }
   ],
   "source": [
    "U = unitary_group.rvs(3, random_state=0)\n",
    "U = U/np.linalg.det(U)**(1/3)\n",
    "\n",
    "theta = qutrit_decomposition(U)\n",
    "\n",
    "V01 = embed(RZ(theta[0]) @ RX(theta[1]) @ RZ(theta[2]), '01')\n",
    "H12 = embed(RZ(theta[3]) @ RX(theta[4]) @ RZ(theta[5]), '12')\n",
    "W01 = embed(RX(theta[6]) @ RZ(theta[7]), '01')\n",
    "\n",
    "print('Does it work?', np.allclose(V01 @ H12 @ W01, U))"
   ]
  }
 ],
 "metadata": {
  "kernelspec": {
   "display_name": "python37",
   "language": "python",
   "name": "python37"
  },
  "language_info": {
   "codemirror_mode": {
    "name": "ipython",
    "version": 3
   },
   "file_extension": ".py",
   "mimetype": "text/x-python",
   "name": "python",
   "nbconvert_exporter": "python",
   "pygments_lexer": "ipython3",
   "version": "3.7.15"
  },
  "varInspector": {
   "cols": {
    "lenName": 16,
    "lenType": 16,
    "lenVar": 40
   },
   "kernels_config": {
    "python": {
     "delete_cmd_postfix": "",
     "delete_cmd_prefix": "del ",
     "library": "var_list.py",
     "varRefreshCmd": "print(var_dic_list())"
    },
    "r": {
     "delete_cmd_postfix": ") ",
     "delete_cmd_prefix": "rm(",
     "library": "var_list.r",
     "varRefreshCmd": "cat(var_dic_list()) "
    }
   },
   "types_to_exclude": [
    "module",
    "function",
    "builtin_function_or_method",
    "instance",
    "_Feature"
   ],
   "window_display": false
  },
  "widgets": {
   "application/vnd.jupyter.widget-state+json": {
    "state": {},
    "version_major": 2,
    "version_minor": 0
   }
  }
 },
 "nbformat": 4,
 "nbformat_minor": 4
}
