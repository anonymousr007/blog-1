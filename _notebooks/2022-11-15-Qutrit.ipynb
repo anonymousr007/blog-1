{
 "cells": [
  {
   "cell_type": "markdown",
   "metadata": {
    "tags": []
   },
   "source": [
    "# Decomposition of a general single-qutrit gate\n",
    "> And a couple of words about Euler's and KAK decompositions\n",
    "- toc: true \n",
    "- badges: true\n",
    "- comments: true\n",
    "- categories: [quantum concepts, compilation]\n",
    "- image: images/relative_toffoli.png"
   ]
  },
  {
   "cell_type": "code",
   "execution_count": 7,
   "metadata": {},
   "outputs": [],
   "source": [
    "#collapse\n",
    "\n",
    "try:\n",
    "  import qiskit\n",
    "except ImportError:\n",
    "  !pip install qiskit\n",
    "try:\n",
    "  import pylatexenc\n",
    "except ImportError:\n",
    "  !pip install pylatexenc\n",
    "  \n",
    "from qiskit import transpile, QuantumCircuit, QuantumRegister\n",
    "from qiskit.circuit.library import *\n",
    "from qiskit.quantum_info import OneQubitEulerDecomposer, random_clifford, Operator, Statevector\n",
    "from qiskit.extensions import UnitaryGate\n",
    "from qiskit.circuit import Instruction\n",
    "from typing import Union\n",
    "import numpy as np\n",
    "from scipy.stats import unitary_group"
   ]
  },
  {
   "cell_type": "markdown",
   "metadata": {},
   "source": [
    "# What this post is about"
   ]
  },
  {
   "cell_type": "markdown",
   "metadata": {},
   "source": [
    "The main purpose of this post is to give an explicit formula for decompositions of an arbitrary single-qutrit gate. I'll also give ...b\n"
   ]
  },
  {
   "cell_type": "markdown",
   "metadata": {
    "tags": []
   },
   "source": [
    "# Euler's decomposition of an arbitrary single-qubit gate"
   ]
  },
  {
   "cell_type": "markdown",
   "metadata": {},
   "source": [
    "## Elementary single-qubit rotations\n",
    "Me (and probably you too) usually take for granted that an arbitrary single-qubit gate $U$ can be decomposed into a product of three elementary rotations. The rotations are usually chosen as\n",
    "\n",
    "\\begin{align}\n",
    "&R_X(\\theta)=e^{-i\\theta X/2}=\\begin{pmatrix} \\cos\\frac{\\theta}2 & -i\\sin\\frac{\\theta}2 \\\\  -i\\sin\\frac{\\theta}2 & \\cos\\frac{\\theta}2\\end{pmatrix}\\\\\n",
    "&R_Y(\\theta)=e^{-i\\theta Y/2}=\\begin{pmatrix} \\cos\\frac{\\theta}2 & -\\sin\\frac{\\theta}2 \\\\  \\sin\\frac{\\theta}2 & \\cos\\frac{\\theta}2\\end{pmatrix}\\\\\n",
    "&R_Z(\\theta)=e^{-i\\theta Z/2}=\\begin{pmatrix} e^{-i \\theta/2} & 0 \\\\ 0 & e^{i\\theta/2}\\end{pmatrix}\n",
    "\\end{align}\n",
    "\n",
    "and a sample decomposition reads\n",
    "\n",
    "## Euler's decomposition\n",
    "$$U = R_X(\\theta_1)R_Z(\\theta_2)R_X(\\theta_3) \\label{XZX}$$\n",
    "\n",
    "Chosing angles $\\theta_i$ appropriately one can obtain any $2\\times 2$ special (with unit determinant) unitary matrix $U\\in SU(2)$. \n",
    "\n",
    "## Making sense of Euler's decomposition\n",
    "Let me make a couple of remarks in an attempt to make relation \\eqref{XZX} a bit more intuitive. First of all, the dimension of the group $SU(n)$, i.e. a group of $n\\times n$ unitary matrices with unit determinant is equal to\n",
    "\n",
    "$$\\operatorname{dim} SU(n)=n^2-1 \\ .$$\n",
    "For $n=2$, corresponding to a single-qubit gate, $\\operatorname{dim}=3$. This implies that the right-hand side in eq.\\eqref{XZX} needs to have at least three parameters and hence three elementary rotations. Good, this explains why are there three terms. (This technique of unsubtle parameter counting in fact extends far more generally. For example, it can be used to deduce a minumum amount of $CNOT$ gate necessary to compile an arbitrary $n-$qubit unitary, as I discussed [here](https://idnm.github.io/blog/machine%20learning/compilation/qiskit/paper%20review/2021/07/22/Machine-learning-compilation-of-quantum-circuits.html#Theoretical-lower-bound-and-quantum-Shannon-decomposition)).\n",
    "\n",
    "## A word about Cartan decomposition (KAK)\n",
    "Now, is there anything special about this particular combination of rotations $XZX$? Well, yes and no. In fact, almost any three single-parameter unitaries would work. Other possible decompositions are $XYX$, $YZY$ etc, but also less common options exist such as $XYZ$. \n",
    "\n",
    "However, decompositions like $XZX$ are special in a sense that they are examples of Cartan (aka KAK) decompositions, hinging on the structe of the underlying $su(2)$ algebra. Decompositions of two-qubit gates into $CNOT$ gates and single-qubit rotations is another important example where KAK arise. I will not cover the subject here, but can recommend a quite readable introduction with applications to quantum gates [https://arxiv.org/abs/quant-ph/0010100](https://arxiv.org/abs/quant-ph/0010100).\n",
    "\n",
    "\n",
    "## Finding angles in Euler's decomposition\n",
    "\n",
    "I have not told you yet how to find angles in the Euler decomposition, so here we go. The key observation is that because $XZ=-XZ$ we have\n",
    "$$X R_Z(\\theta)X=R_Z(-\\theta),\\quad X R_X(\\theta)X=R_X(\\theta) \\ .$$\n",
    "Multiplying \\eqref{XZX} by $X$ from left and right we get\n",
    "$$XUX=R_X(\\theta_1)R_Z(-\\theta_2)R_X(\\theta_3) \\ .$$\n",
    "Therefore,\n",
    "$$M:= UXU^\\dagger X=R_x(\\theta_1)R_Z(2\\theta_2)R_x^\\dagger(\\theta_1)$$.\n",
    "\n",
    "Since $R_Z$ is a diagonal gate, the right hand side is nothing else but a unitary diagonalization of matrix $M$. Therefore, finding $\\theta_1$ and $\\theta_2$ reduce to the standard diagonalization procedure. The last parmeter $\\theta_3$ is then read off from $R_X(\\theta_3)=R_Z^\\dagger(\\theta_2) R_X^\\dagger(\\theta_1)U$. \n",
    "\n",
    "\n",
    "Here is a quick and dirty code that implements the procedure. It won't handle some edge cases and may not be the most efficient, but I'll be happy with it's performance on random unitaries. "
   ]
  },
  {
   "cell_type": "code",
   "execution_count": 59,
   "metadata": {},
   "outputs": [],
   "source": [
    "# Define X, RX, and RZ.\n",
    "\n",
    "X = np.array([[0, 1], [1, 0]])\n",
    "\n",
    "def RX(theta):\n",
    "    return np.array([[np.cos(theta/2), -1j*np.sin(theta/2)],[-1j*np.sin(theta/2), np.cos(theta/2)]])\n",
    "\n",
    "def RZ(theta):\n",
    "    return np.array([[np.exp(-1j*theta/2), 0],[0, np.exp(1j*theta/2)]])\n",
    "\n",
    "# Decomposition routine.\n",
    "\n",
    "def XZX_decomposition(U):\n",
    "    \n",
    "    assert np.allclose(U.conj().T @ U, np.eye(2)), 'Input matrix is not unitary.'\n",
    "    assert np.allclose(np.linalg.det(U), 1), 'Input matrix has non-unit determinant.'\n",
    "    \n",
    "    \n",
    "    # Construct the matrix to diagonalize.\n",
    "    M = U @ X @ U.conj().T @ X\n",
    "    \n",
    "    # Diagonalization.\n",
    "    RZ_squared, RX1 = np.linalg.eig(M)\n",
    "    \n",
    "    # Normalize RX1 to have a zero global phase.\n",
    "    RX1 = RX1*np.abs(RX1[0, 0])/RX1[0, 0]\n",
    "    \n",
    "    # Determine theta_1 and theta_2 from diagonalization.\n",
    "    theta_1 = 2*np.arcsin(1j*RX1[0, 1])\n",
    "    theta_2 = 1j*np.log(RZ_squared[0])\n",
    "    \n",
    "    # Determine RX(theta_3) and theta_3. \n",
    "    RX2 = RZ(-theta_2) @ RX(-theta_1) @ U\n",
    "    theta_3 = 2*np.arcsin(1j*RX2[0, 1])\n",
    "\n",
    "    return theta_1, theta_2, theta_3"
   ]
  },
  {
   "cell_type": "markdown",
   "metadata": {},
   "source": [
    "And now let's test."
   ]
  },
  {
   "cell_type": "code",
   "execution_count": 64,
   "metadata": {},
   "outputs": [
    {
     "name": "stdout",
     "output_type": "stream",
     "text": [
      "Does it work? True\n"
     ]
    }
   ],
   "source": [
    "random_seed = 0\n",
    "\n",
    "# Draw a random unitary.\n",
    "U = unitary_group.rvs(2, random_state=random_seed) \n",
    "# Renormalize the first raw to set det U = 1.\n",
    "U[1] = U[1] / np.linalg.det(U) \n",
    "\n",
    "theta_1, theta_2, theta_3 = XZX_decomposition(U)\n",
    "check = np.allclose(RX(theta_1) @ RZ(theta_2) @ RX(theta_3), U)\n",
    "print(f'Does it work? {check}')"
   ]
  },
  {
   "cell_type": "markdown",
   "metadata": {
    "tags": []
   },
   "source": [
    "# Decomposing arbitrary single-qutrit gate"
   ]
  },
  {
   "cell_type": "markdown",
   "metadata": {},
   "source": [
    "## Elementary qutrit gates\n",
    "Qutrit is an abstration for any three-level quantum system, which is probably less familiar than a qubit. Elementary rotation gates for a qutrit are commonly chosen as standard qubit gates acting only on two of the qutrit levels. We will use\n",
    "\\begin{align}\n",
    "R^{01}_X(\\theta)=\\begin{pmatrix}\\cos\\frac{\\theta}2&-i\\sin\\frac{\\theta}2&0\\\\-i\\sin\\frac{\\theta}2&\\cos\\frac{\\theta}2&0\\\\0&0&1\\end{pmatrix},\\quad \n",
    "R^{01}_Z(\\theta)=\\begin{pmatrix}e^{-i\\theta/2}&0&0\\\\0&e^{-i\\theta/2}&0\\\\0&0&1\\end{pmatrix}\n",
    "\\end{align}\n",
    "\n",
    "and\n",
    "\n",
    "\\begin{align}\n",
    "R^{12}_X(\\theta)=\\begin{pmatrix}1&0&0\\\\0&cos\\frac{\\theta}2&-i\\sin\\frac{\\theta}2\\\\0&-i\\sin\\frac{\\theta}2&\\cos\\frac{\\theta}2\\end{pmatrix},\\quad \n",
    "R^{12}_Z(\\theta)=\\begin{pmatrix}1&0&0\\\\0&e^{-i\\theta/2}&0\\\\0&0&e^{-i\\theta/2}\\end{pmatrix}\n",
    "\\end{align}\n",
    "\n",
    "## Is there a an off-the-shelf result? (I'm bad at googling)\n",
    "A general single-qutrit transformation lives in $SU(3)$ and hence has $3^2-1=8$ real parameters. Hence, we expect to have a decomposition which is a product of 8 elementary rotations. But how exactly will it look, and how to determine the parameters? To my surprise, the only explicit result I found is equation 4 here [https://arxiv.org/abs/1105.5485](https://arxiv.org/abs/1105.5485) which goes something like\n",
    "$$U = R_Y^{01}R_Y^{02}R_Y^{01}R_Z^{01}R_Z^{02}R_Y^{01}R_Y^{02}R_Y^{01} \\ .$$\n",
    "\n",
    "The result is based on a particular Cartan decomposition of $SU(3)$ (which is non-unique) and does not look very intuitive. Moreover, apparently no explicit algorithm to find the parameters of these rotations (which I ommited in the equation) is given.\n",
    "\n",
    "## A simple derivation\n",
    "I will now give another explicit decomposition for a general single-qutrit gate with elementary derivation and explicit procedure to compute the parameters. I begin with separating general $U\\in SU(3)$ in blocks\n",
    "$$U=\\begin{pmatrix}A&B\\\\C&d\\end{pmatrix}=\\begin{pmatrix} a_{00}& a_{01} & b_0\\\\ a_{10} & a_{11} & b_1\\\\ c_0&c_1&d\\end{pmatrix}$$.\n",
    "Now let us write a [singular value decomposition](https://en.wikipedia.org/wiki/Singular_value_decomposition)(SVD) for $2\\times 2$ matrix $A$\n",
    "$$A = V \\Sigma W^\\dagger$$.\n",
    "Here $V$ and $W$ are unitary while $\\Sigma=\\operatorname{diag}(\\sigma_0,\\sigma_1)$ is diagonal with $\\sigma_i\\ge0$. SVD is a very useful  factorization that works for arbitrary matrices, not necessarily Hermitian/Unitary (or even square). Using SVD of $A$ we can factorize $U$ as follows\n",
    "$$U=\\begin{pmatrix}V&0\\\\0&1\\end{pmatrix}\\begin{pmatrix}\\Sigma&V^\\dagger B\\\\ CW&D\\end{pmatrix}\\begin{pmatrix}W^\\dagger&0\\\\0&1\\end{pmatrix}=V^{01}\\begin{pmatrix}\\Sigma&V^\\dagger B\\\\ CW&D\\end{pmatrix}\\left(W^{01}\\right)^\\dagger \\label{U part}$$\n",
    "The left and right matrices act only within the first two levels. The middle matrix looks like it acts and all levels of the qutrit, but in fact it is not. I will leave at as an excersize to the reader to show that matrix $A$ necessarily has a unit eigenvalue, we will assume that $\\sigma_{0}=1$. In a unitary matrix each row and colums have unit norm. Therefore, if some entry in a unitary matrix is equal to one, all other elements in the corresponding row and column must be zero. Hehnce the middle matrix in \\eqref{U part} in fact looks like\n",
    "$$H^{12}:=\\begin{pmatrix}1&0&0\\\\ 0&\\sigma_{1}& b'\\\\ 0&c'&d\\end{pmatrix}$$\n",
    "and hence only acts on levels 1 and 2. Therefore, the overall decomposition looks like\n",
    "\n",
    "<img src=\"myimages/qutrit/qutrit.png\" alt=\"Drawing\" style=\"width: 400px;\"/>\n",
    "\n",
    "Needless to say that the lines on this sketch are not qubits, but individual levels of the qutrit. \n",
    "\n",
    "Therefore, we have split a general qutrit gate into three gates involving two levels only. Each of these can be further decomposed into three elementary rotatins using Euler's method for single-qubit gates. It is a bit unfortunate that the overall parameter count is then $3\\times 3=9$ instead of the optimal 8. At the moment I am not sure if this is a reduncancy one can eliminate, of decomposition of the type $U^{01}U^{12}U^{01}$ with only 8 parameters does not exists, and one has mix the levels more frequently as in equation \\erqef{U3 cart 1}.\n",
    "\n",
    "## Implementation\n",
    "\n",
    "Let's go ahead and implement this decomposition. Again, I will not care about efficiency or potential edge cases."
   ]
  },
  {
   "cell_type": "code",
   "execution_count": 93,
   "metadata": {},
   "outputs": [],
   "source": [
    "# Embedding qubit gates into qutrit.\n",
    "\n",
    "def embed(U_qubit, levels):\n",
    "    U = np.eye(3, dtype=np.complex64)\n",
    "    if levels == '01':\n",
    "        U[:2, :2]=U_qubit\n",
    "    elif levels == '12':\n",
    "        U[1:, 1:]=U_qubit\n",
    "    else:\n",
    "        raise TypeError(f'Levels {levels} not supported.')\n",
    "        \n",
    "    return U\n",
    "\n",
    "def VHW_decomposition(U):\n",
    "    assert np.allclose(U.conj().T @ U, np.eye(3)), 'Input in not unitary.' \n",
    "    assert np.allclose(np.linalg.det(U), 1), 'Input is not special.'\n",
    "    \n",
    "    \n",
    "    A = U[:2, :2] # 2x2 submatrix\n",
    "    V, S, W = np.linalg.svd(A) # SVD, V and W will act in '01' subspace. \n",
    "\n",
    "    H3 = embed(V.conj().T, '01') @ U @ embed(W.conj().T, '01')\n",
    "    H = H3[1:, 1:] # H3 should act non-trivially only in '12' subspace.\n",
    "\n",
    "    return V, H, W"
   ]
  },
  {
   "cell_type": "markdown",
   "metadata": {},
   "source": [
    "Let's verify."
   ]
  },
  {
   "cell_type": "code",
   "execution_count": 94,
   "metadata": {},
   "outputs": [
    {
     "name": "stdout",
     "output_type": "stream",
     "text": [
      "Does it work?: True\n"
     ]
    }
   ],
   "source": [
    "# Draw a random unitary and normalize so that det U=1.\n",
    "random_seed=0\n",
    "U = unitary_group.rvs(3, random_state=random_seed)\n",
    "U[0] = U[0]/np.linalg.det(U)\n",
    "\n",
    "# And now we check.\n",
    "V, H, W = VHW_decomposition(U)\n",
    "check = np.allclose(embed(V, '01') @ embed(H, '12') @ embed(W, '01'), U)\n",
    "print(f'Does it work?: {check}')"
   ]
  },
  {
   "cell_type": "code",
   "execution_count": 97,
   "metadata": {},
   "outputs": [
    {
     "data": {
      "text/plain": [
       "(-0.13759636240745646+0.9904883851172793j)"
      ]
     },
     "execution_count": 97,
     "metadata": {},
     "output_type": "execute_result"
    }
   ],
   "source": [
    "np.linalg.det(W)"
   ]
  },
  {
   "cell_type": "markdown",
   "metadata": {},
   "source": [
    "Of course, you can also decompose each of the 2-level blocks using XZX decomposition. For completeness, I'll give the relevant function."
   ]
  },
  {
   "cell_type": "code",
   "execution_count": 92,
   "metadata": {},
   "outputs": [
    {
     "ename": "AssertionError",
     "evalue": "Input matrix has non-unit determinant.",
     "output_type": "error",
     "traceback": [
      "\u001b[0;31m---------------------------------------------------------------------------\u001b[0m",
      "\u001b[0;31mAssertionError\u001b[0m                            Traceback (most recent call last)",
      "\u001b[0;32m/tmp/ipykernel_51599/1711750648.py\u001b[0m in \u001b[0;36m<module>\u001b[0;34m\u001b[0m\n\u001b[1;32m      9\u001b[0m \u001b[0;34m\u001b[0m\u001b[0m\n\u001b[1;32m     10\u001b[0m \u001b[0;31m# Check\u001b[0m\u001b[0;34m\u001b[0m\u001b[0;34m\u001b[0m\u001b[0;34m\u001b[0m\u001b[0m\n\u001b[0;32m---> 11\u001b[0;31m \u001b[0mtheta\u001b[0m \u001b[0;34m=\u001b[0m \u001b[0mXZX_qutrit_decompose\u001b[0m\u001b[0;34m(\u001b[0m\u001b[0mU\u001b[0m\u001b[0;34m)\u001b[0m\u001b[0;34m\u001b[0m\u001b[0;34m\u001b[0m\u001b[0m\n\u001b[0m\u001b[1;32m     12\u001b[0m \u001b[0mV01\u001b[0m \u001b[0;34m=\u001b[0m \u001b[0membed\u001b[0m\u001b[0;34m(\u001b[0m\u001b[0mRX\u001b[0m\u001b[0;34m(\u001b[0m\u001b[0mtheta\u001b[0m\u001b[0;34m[\u001b[0m\u001b[0;36m0\u001b[0m\u001b[0;34m]\u001b[0m\u001b[0;34m)\u001b[0m\u001b[0;34m,\u001b[0m \u001b[0;34m'01'\u001b[0m\u001b[0;34m)\u001b[0m \u001b[0;34m@\u001b[0m \u001b[0membed\u001b[0m\u001b[0;34m(\u001b[0m\u001b[0mRZ\u001b[0m\u001b[0;34m(\u001b[0m\u001b[0mtheta\u001b[0m\u001b[0;34m[\u001b[0m\u001b[0;36m1\u001b[0m\u001b[0;34m]\u001b[0m\u001b[0;34m)\u001b[0m\u001b[0;34m,\u001b[0m \u001b[0;34m'01'\u001b[0m\u001b[0;34m)\u001b[0m \u001b[0;34m@\u001b[0m \u001b[0membed\u001b[0m\u001b[0;34m(\u001b[0m\u001b[0mRX\u001b[0m\u001b[0;34m(\u001b[0m\u001b[0mtheta\u001b[0m\u001b[0;34m[\u001b[0m\u001b[0;36m2\u001b[0m\u001b[0;34m]\u001b[0m\u001b[0;34m)\u001b[0m\u001b[0;34m,\u001b[0m \u001b[0;34m'01'\u001b[0m\u001b[0;34m)\u001b[0m\u001b[0;34m\u001b[0m\u001b[0;34m\u001b[0m\u001b[0m\n\u001b[1;32m     13\u001b[0m \u001b[0mH12\u001b[0m \u001b[0;34m=\u001b[0m \u001b[0membed\u001b[0m\u001b[0;34m(\u001b[0m\u001b[0mRX\u001b[0m\u001b[0;34m(\u001b[0m\u001b[0mtheta\u001b[0m\u001b[0;34m[\u001b[0m\u001b[0;36m3\u001b[0m\u001b[0;34m]\u001b[0m\u001b[0;34m)\u001b[0m\u001b[0;34m,\u001b[0m \u001b[0;34m'12'\u001b[0m\u001b[0;34m)\u001b[0m \u001b[0;34m@\u001b[0m \u001b[0membed\u001b[0m\u001b[0;34m(\u001b[0m\u001b[0mRZ\u001b[0m\u001b[0;34m(\u001b[0m\u001b[0mtheta\u001b[0m\u001b[0;34m[\u001b[0m\u001b[0;36m4\u001b[0m\u001b[0;34m]\u001b[0m\u001b[0;34m)\u001b[0m\u001b[0;34m,\u001b[0m \u001b[0;34m'12'\u001b[0m\u001b[0;34m)\u001b[0m \u001b[0;34m@\u001b[0m \u001b[0membed\u001b[0m\u001b[0;34m(\u001b[0m\u001b[0mRX\u001b[0m\u001b[0;34m(\u001b[0m\u001b[0mtheta\u001b[0m\u001b[0;34m[\u001b[0m\u001b[0;36m5\u001b[0m\u001b[0;34m]\u001b[0m\u001b[0;34m)\u001b[0m\u001b[0;34m,\u001b[0m \u001b[0;34m'12'\u001b[0m\u001b[0;34m)\u001b[0m\u001b[0;34m\u001b[0m\u001b[0;34m\u001b[0m\u001b[0m\n",
      "\u001b[0;32m/tmp/ipykernel_51599/1711750648.py\u001b[0m in \u001b[0;36mXZX_qutrit_decompose\u001b[0;34m(U)\u001b[0m\n\u001b[1;32m      1\u001b[0m \u001b[0;32mdef\u001b[0m \u001b[0mXZX_qutrit_decompose\u001b[0m\u001b[0;34m(\u001b[0m\u001b[0mU\u001b[0m\u001b[0;34m)\u001b[0m\u001b[0;34m:\u001b[0m\u001b[0;34m\u001b[0m\u001b[0;34m\u001b[0m\u001b[0m\n\u001b[1;32m      2\u001b[0m     \u001b[0mV\u001b[0m\u001b[0;34m,\u001b[0m \u001b[0mH\u001b[0m\u001b[0;34m,\u001b[0m \u001b[0mW\u001b[0m \u001b[0;34m=\u001b[0m \u001b[0mVHW_decomposition\u001b[0m\u001b[0;34m(\u001b[0m\u001b[0mU\u001b[0m\u001b[0;34m)\u001b[0m\u001b[0;34m\u001b[0m\u001b[0;34m\u001b[0m\u001b[0m\n\u001b[0;32m----> 3\u001b[0;31m     \u001b[0;32mreturn\u001b[0m \u001b[0mXZX_decomposition\u001b[0m\u001b[0;34m(\u001b[0m\u001b[0mV\u001b[0m\u001b[0;34m)\u001b[0m \u001b[0;34m+\u001b[0m \u001b[0mXZX_decomposition\u001b[0m\u001b[0;34m(\u001b[0m\u001b[0mH\u001b[0m\u001b[0;34m)\u001b[0m \u001b[0;34m+\u001b[0m \u001b[0mXZX_decomposition\u001b[0m\u001b[0;34m(\u001b[0m\u001b[0mW\u001b[0m\u001b[0;34m)\u001b[0m\u001b[0;34m\u001b[0m\u001b[0;34m\u001b[0m\u001b[0m\n\u001b[0m\u001b[1;32m      4\u001b[0m \u001b[0;34m\u001b[0m\u001b[0m\n\u001b[1;32m      5\u001b[0m \u001b[0;31m# Draw.\u001b[0m\u001b[0;34m\u001b[0m\u001b[0;34m\u001b[0m\u001b[0;34m\u001b[0m\u001b[0m\n",
      "\u001b[0;32m/tmp/ipykernel_51599/2513596627.py\u001b[0m in \u001b[0;36mXZX_decomposition\u001b[0;34m(U)\u001b[0m\n\u001b[1;32m     14\u001b[0m \u001b[0;34m\u001b[0m\u001b[0m\n\u001b[1;32m     15\u001b[0m     \u001b[0;32massert\u001b[0m \u001b[0mnp\u001b[0m\u001b[0;34m.\u001b[0m\u001b[0mallclose\u001b[0m\u001b[0;34m(\u001b[0m\u001b[0mU\u001b[0m\u001b[0;34m.\u001b[0m\u001b[0mconj\u001b[0m\u001b[0;34m(\u001b[0m\u001b[0;34m)\u001b[0m\u001b[0;34m.\u001b[0m\u001b[0mT\u001b[0m \u001b[0;34m@\u001b[0m \u001b[0mU\u001b[0m\u001b[0;34m,\u001b[0m \u001b[0mnp\u001b[0m\u001b[0;34m.\u001b[0m\u001b[0meye\u001b[0m\u001b[0;34m(\u001b[0m\u001b[0;36m2\u001b[0m\u001b[0;34m)\u001b[0m\u001b[0;34m)\u001b[0m\u001b[0;34m,\u001b[0m \u001b[0;34m'Input matrix is not unitary.'\u001b[0m\u001b[0;34m\u001b[0m\u001b[0;34m\u001b[0m\u001b[0m\n\u001b[0;32m---> 16\u001b[0;31m     \u001b[0;32massert\u001b[0m \u001b[0mnp\u001b[0m\u001b[0;34m.\u001b[0m\u001b[0mallclose\u001b[0m\u001b[0;34m(\u001b[0m\u001b[0mnp\u001b[0m\u001b[0;34m.\u001b[0m\u001b[0mlinalg\u001b[0m\u001b[0;34m.\u001b[0m\u001b[0mdet\u001b[0m\u001b[0;34m(\u001b[0m\u001b[0mU\u001b[0m\u001b[0;34m)\u001b[0m\u001b[0;34m,\u001b[0m \u001b[0;36m1\u001b[0m\u001b[0;34m)\u001b[0m\u001b[0;34m,\u001b[0m \u001b[0;34m'Input matrix has non-unit determinant.'\u001b[0m\u001b[0;34m\u001b[0m\u001b[0;34m\u001b[0m\u001b[0m\n\u001b[0m\u001b[1;32m     17\u001b[0m \u001b[0;34m\u001b[0m\u001b[0m\n\u001b[1;32m     18\u001b[0m \u001b[0;34m\u001b[0m\u001b[0m\n",
      "\u001b[0;31mAssertionError\u001b[0m: Input matrix has non-unit determinant."
     ]
    }
   ],
   "source": [
    "def XZX_qutrit_decompose(U):\n",
    "    V, H, W = VHW_decomposition(U)\n",
    "    return XZX_decomposition(V) + XZX_decomposition(H) + XZX_decomposition(W)\n",
    "\n",
    "# Draw.\n",
    "random_seed=0\n",
    "U = unitary_group.rvs(3, random_state=random_seed)\n",
    "U[0] = U[0]/np.linalg.det(U)\n",
    "\n",
    "# Check\n",
    "theta = XZX_qutrit_decompose(U)\n",
    "V01 = embed(RX(theta[0]), '01') @ embed(RZ(theta[1]), '01') @ embed(RX(theta[2]), '01')\n",
    "H12 = embed(RX(theta[3]), '12') @ embed(RZ(theta[4]), '12') @ embed(RX(theta[5]), '12')\n",
    "W01 = embed(RX(theta[6]), '01') @ embed(RZ(theta[7]), '01') @ embed(RX(theta[8]), '01')\n",
    "\n",
    "check = np.allclose(V01 @ H12 @ W01, U)\n",
    "print(f'Does it work?: {check}')"
   ]
  },
  {
   "cell_type": "code",
   "execution_count": null,
   "metadata": {},
   "outputs": [],
   "source": []
  }
 ],
 "metadata": {
  "kernelspec": {
   "display_name": "python37",
   "language": "python",
   "name": "python37"
  },
  "language_info": {
   "codemirror_mode": {
    "name": "ipython",
    "version": 3
   },
   "file_extension": ".py",
   "mimetype": "text/x-python",
   "name": "python",
   "nbconvert_exporter": "python",
   "pygments_lexer": "ipython3",
   "version": "3.7.15"
  },
  "varInspector": {
   "cols": {
    "lenName": 16,
    "lenType": 16,
    "lenVar": 40
   },
   "kernels_config": {
    "python": {
     "delete_cmd_postfix": "",
     "delete_cmd_prefix": "del ",
     "library": "var_list.py",
     "varRefreshCmd": "print(var_dic_list())"
    },
    "r": {
     "delete_cmd_postfix": ") ",
     "delete_cmd_prefix": "rm(",
     "library": "var_list.r",
     "varRefreshCmd": "cat(var_dic_list()) "
    }
   },
   "types_to_exclude": [
    "module",
    "function",
    "builtin_function_or_method",
    "instance",
    "_Feature"
   ],
   "window_display": false
  },
  "widgets": {
   "application/vnd.jupyter.widget-state+json": {
    "state": {},
    "version_major": 2,
    "version_minor": 0
   }
  }
 },
 "nbformat": 4,
 "nbformat_minor": 4
}
