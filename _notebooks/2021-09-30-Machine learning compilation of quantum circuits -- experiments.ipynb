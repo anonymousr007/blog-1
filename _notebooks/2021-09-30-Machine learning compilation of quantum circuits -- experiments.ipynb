{
 "cells": [
  {
   "cell_type": "markdown",
   "metadata": {
    "tags": [],
    "toc-hr-collapsed": true
   },
   "source": [
    "# Machine learning compilation of quantum circuits -- experiments\n",
    "> Flexible and efficient learning with JAX+numpy\n",
    "- toc: true \n",
    "- badges: true\n",
    "- comments: true\n",
    "- categories: [qiskit, JAX, machine learning, compilation]\n",
    "- image: images/upsidedown.jpg"
   ]
  },
  {
   "cell_type": "markdown",
   "metadata": {
    "tags": []
   },
   "source": [
    "# Introduction"
   ]
  },
  {
   "cell_type": "code",
   "execution_count": 1,
   "metadata": {
    "tags": []
   },
   "outputs": [
    {
     "name": "stderr",
     "output_type": "stream",
     "text": [
      "WARNING:absl:No GPU/TPU found, falling back to CPU. (Set TF_CPP_MIN_LOG_LEVEL=0 and rerun for more info.)\n"
     ]
    }
   ],
   "source": [
    "#collapse\n",
    "import jax.numpy as jnp\n",
    "import numpy as np\n",
    "\n",
    "from jax import random, value_and_grad, ops, jit, lax, vmap, grad, partial\n",
    "key = random.PRNGKey(42)\n",
    "\n",
    "# !pip install tensornetwork\n",
    "# !pip install optax\n",
    "# !pip install qiskit\n",
    "# !pip install pylatexenc\n",
    "\n",
    "import tensornetwork as tn\n",
    "tn.set_default_backend('jax')\n",
    "\n",
    "import optax\n",
    "\n",
    "from qiskit import QuantumCircuit, transpile\n",
    "from qiskit.quantum_info import Operator, Statevector\n",
    "from qiskit.circuit import Parameter\n",
    "from qiskit.transpiler.passes.synthesis import UnitarySynthesis\n",
    "from qiskit.transpiler import PassManager\n",
    "from qiskit.converters import circuit_to_gate\n",
    "\n",
    "from scipy.stats import unitary_group\n",
    "\n",
    "import matplotlib.pyplot as plt\n",
    "import re\n",
    "\n",
    "from pandas import DataFrame"
   ]
  },
  {
   "cell_type": "markdown",
   "metadata": {},
   "source": [
    "## Motivation\n",
    "Ever since I read the paper by L.Madden and A.Simonetto ([original preprint](http://arxiv.org/abs/2106.05649), [my review](https://idnm.github.io/blog/machine%20learning/compilation/qiskit/paper%20review/2021/07/22/Machine-learning-compilation-of-quantum-circuits.html)) I knew I want to do this kind of experiments myself. At first I hoped that there is a well-established framework where I can easily build quantum circuits and then optimize them efficiently. However, [I was not able to find a good fit for my problem](https://quantumcomputing.stackexchange.com/questions/20718/software-tools-to-train-quantum-circuits-with-parameters) (I later found [quimb](https://quimb.readthedocs.io/en/latest/index.html) which [might do what I want](https://quimb.readthedocs.io/en/latest/examples/ex_tn_train_circuit.html), but in the end I'm glad I worked things out from scratch). In the end I went for `numpy`+`JAX` combination which while being quite low-level was not a big problem to get working. \n",
    "\n",
    "Here I will give a walk thorough this implementation and show experiments with compilation of random unitaries. However, in my opinion truly interesting stuff is concerned with the compilation of special gates, say multi-controlled Toffolis on restricted connectivity. I intend to look at this kind problems in detail in a future blog post, also see [this preprint](http://arxiv.org/abs/2109.13223) for advances in that direction.\n",
    "\n",
    "> *NOTE*: While I was working on my own experiments another [preprint appeared](http://arxiv.org/abs/2109.06770), by P.Rakyta and Z.Zimborás, which is very similar to the work of M&S in terms of numerical results. Despite the striking similarities these works are independent. As a bonus R&Z also provide a numerical package [SQUANDER](https://zenodo.org/record/4508680#.YVw-uYBBxNi) that allows to play with their framework for compilation of unitaries. You might wish to check that out if you are interested in doing some experiments yourself.\n",
    "\n",
    "\n",
    "## The problem\n",
    "OK, so first a brief recap of what is the compilation problem. Given a quantum circuit we need to find an equivalent one, which satisfies certain requirements. A typical restrictions are to use only some specific two-qubits gates and to be compatible with limited connectivity. I gave a more detailed intro [here](https://idnm.github.io/blog/machine%20learning/compilation/qiskit/paper%20review/2021/07/22/Machine-learning-compilation-of-quantum-circuits.html). Here is a nearly-trivial example: a simple $CNOT$ gate "
   ]
  },
  {
   "cell_type": "code",
   "execution_count": 2,
   "metadata": {},
   "outputs": [
    {
     "data": {
      "image/png": "[encoded data removed]",
      "text/plain": [
       "<Figure size 146.652x144.48 with 1 Axes>"
      ]
     },
     "execution_count": 2,
     "metadata": {},
     "output_type": "execute_result"
    }
   ],
   "source": [
    "#collapse\n",
    "qc = QuantumCircuit(2)\n",
    "qc.cx(0, 1)\n",
    "qc.draw(output='mpl')"
   ]
  },
  {
   "cell_type": "markdown",
   "metadata": {},
   "source": [
    "can be decomposed in terms of the entangling $CZ$ gate and single-qubit gates $rx, ry, rz$ as follows"
   ]
  },
  {
   "cell_type": "code",
   "execution_count": 3,
   "metadata": {},
   "outputs": [
    {
     "data": {
      "image/png": "[encoded data removed]",
      "text/plain": [
       "<Figure size 447.652x144.48 with 1 Axes>"
      ]
     },
     "execution_count": 3,
     "metadata": {},
     "output_type": "execute_result"
    }
   ],
   "source": [
    "#collapse\n",
    "qc_compiled = transpile(qc, basis_gates=['cz', 'rx', 'ry', 'rz'], optimization_level=3)\n",
    "qc_compiled.draw(output='mpl')"
   ]
  },
  {
   "cell_type": "markdown",
   "metadata": {},
   "source": [
    "Now, for generic $n$-qubit unitaries one needs exponentially many entangling gates for the compilation. More precisely, there is a [theoretical lower bound](https://dl.acm.org/doi/10.5555/968879.969163) $\\#CNOTs\\ge \\frac14 \\left(4^n-3n-1\\right)$ on the amount of $CNOT$s required for compilation of any $n-$qubit unitary outside a measure zero set. Crucially, this measure zero set might in fact be of principal interest to quantum computing as it includes many operators featuring in most algorithms (such as multi-controlled gates). In this post I will only adress compilation of random unitaries and discuss compilation of special cases in a future post. For later reference here is the function returning a theoretical lower bound"
   ]
  },
  {
   "cell_type": "code",
   "execution_count": 4,
   "metadata": {},
   "outputs": [
    {
     "name": "stdout",
     "output_type": "stream",
     "text": [
      "TLB for 1-qubit unitary is 1\n",
      "TLB for 2-qubit unitary is 3\n",
      "TLB for 3-qubit unitary is 14\n",
      "TLB for 4-qubit unitary is 61\n",
      "TLB for 5-qubit unitary is 253\n",
      "TLB for 6-qubit unitary is 1020\n"
     ]
    }
   ],
   "source": [
    "def TLB(n):\n",
    "    return int((4**n-3*n-1)/4 + 1)\n",
    "\n",
    "for n in range(1, 7):\n",
    "    print('TLB for {}-qubit unitary is {}'.format(n, TLB(n)))"
   ]
  },
  {
   "cell_type": "markdown",
   "metadata": {},
   "source": [
    "Now, there is an algorithm called [quantum Shannon decomposition](https://arxiv.org/abs/quant-ph/0406176) to decompose an arbitary $n$-qubit unitary into a sequence of $CNOT$s and single-qubit rotations which requires roughly twice as many $CNOT$s as the theoretical lower bound implies. \n",
    "\n",
    "## 3-qubit example\n",
    "As papers [M&S](http://arxiv.org/abs/2106.05649) and [R&Z](http://arxiv.org/abs/2109.06770) show, one can do better and eliminate the 2x overhead, at least numerically. Namely, it seems that precisely at the theoretical lower bound the exact or nearly-exact compilation is possible. Here is a real-life example. Consider the following 3-qubit circuit with $TLB(3)=14$ $CNOT$ gates\n",
    "\n",
    "<img src=\"myimages/3qubitsequ.png\" alt=\"Drawing\" style=\"width: 800px;\"/>"
   ]
  },
  {
   "cell_type": "markdown",
   "metadata": {},
   "source": [
    "The claim is that with the appropriate choice of angles in rotation gates it can morhp into *any* 3-qubit unitary. To find the corresponding angles it is sufficient to run a numerical optimization minimizing the fidelity between this circuit's unitary and the target unitary. This is rather imressive, but calls for many questions. Why choose $CNOT$ gates? Why place them in that exact order? It appears to be an experical fact that precise location of entangling gates as well as their choice ($CNOT$, $CZ$, etc) makes little difference. Moreover, even restricted connectivity does not seem to force an overhead for compilation. I will back up these claims with numerical experiments.\n",
    "\n",
    "## Contents\n",
    "The rest of this post is divided into two parts. In the first I write some `numpy`/`JAX`/`qiskit` code that allows to construct and efficiently optimize circuits of interest. I try to give some explanations of the underlying numerical framework, but please do not mistake me for a real expert on the topic. Still, the resulting performance seems to be good enough to reproduce results of the existing preprints. This part can safely be skipped if you are only interested in the results.\n",
    "\n",
    "In the second part of the post I will do a number of experiments compiling random unitaries with varying numbers of qubits, different types of entangling gates, restricted connectivity and try to draw some general lessons from them. \n",
    "> *NOTE*: This blog post is also a fully-functional jupyter notebook. You can open it in colab or download it and perform more experiments yourself!"
   ]
  },
  {
   "cell_type": "markdown",
   "metadata": {
    "tags": []
   },
   "source": [
    "# Numerical framework"
   ]
  },
  {
   "cell_type": "markdown",
   "metadata": {
    "tags": [],
    "toc-hr-collapsed": true
   },
   "source": [
    "## Building blocks for quantum circuits"
   ]
  },
  {
   "cell_type": "markdown",
   "metadata": {},
   "source": [
    "First let us define the basic 1- and 2-qubit gates in matrix form. For now you can safely ignore the use `jnp` arrays instead of `np` arrays."
   ]
  },
  {
   "cell_type": "code",
   "execution_count": 5,
   "metadata": {},
   "outputs": [],
   "source": [
    "# Matrix represntations of CNOT, CZ and single-qubit rotations\n",
    "\n",
    "# Controlled-NOT (or controlled-X gate)\n",
    "cx_mat = jnp.array([[1, 0, 0, 0],\n",
    "                    [0, 1, 0, 0],\n",
    "                    [0, 0, 0, 1],\n",
    "                    [0, 0, 1, 0]])\n",
    "\n",
    "# Controlled-Z gate\n",
    "cz_mat = jnp.array([[1, 0, 0, 0],\n",
    "                    [0, 1, 0, 0],\n",
    "                    [0, 0, 1, 0],\n",
    "                    [0, 0, 0, -1]])\n",
    "\n",
    "# Pauli matrices\n",
    "x_mat = jnp.array([[0, 1],\n",
    "                   [1, 0]])\n",
    "\n",
    "y_mat = jnp.array([[0, -1j],\n",
    "                   [1j, 0]], dtype=jnp.complex64)\n",
    "\n",
    "z_mat = jnp.array([[1, 0],\n",
    "                   [0, -1]])\n",
    "\n",
    "# Rotation gates\n",
    "def rx_mat(a):\n",
    "    return jnp.cos(a/2)*jnp.identity(2)-1j*x_mat*jnp.sin(a/2)\n",
    "\n",
    "def ry_mat(a):\n",
    "    return jnp.cos(a/2)*jnp.identity(2)-1j*y_mat*jnp.sin(a/2)\n",
    "\n",
    "def rz_mat(a):\n",
    "    return jnp.cos(a/2)*jnp.identity(2)-1j*z_mat*jnp.sin(a/2)"
   ]
  },
  {
   "cell_type": "markdown",
   "metadata": {},
   "source": [
    "The circuits that we are going to train will be built out of two types of 2-qubit blocks. Here are the definitions:"
   ]
  },
  {
   "cell_type": "code",
   "execution_count": 6,
   "metadata": {},
   "outputs": [],
   "source": [
    "# Class for a single building block\n",
    "class block():\n",
    "    def __init__(self, gate_name, angles):\n",
    "        self.gate_name = gate_name\n",
    "        self.angles = angles\n",
    "    \n",
    "    # Quantum circuit in `qiskit` corresponding to our block\n",
    "    def circuit(self):\n",
    "        qc = QuantumCircuit(2)\n",
    "        if self.gate_name == 'cx':\n",
    "            qc.cx(0, 1)\n",
    "        elif self.gate_name == 'cz':\n",
    "            qc.cz(0, 1)\n",
    "        else:\n",
    "            print(\"Gate '{}' not yet supported'\".format(self.gate_name))\n",
    "        \n",
    "        angles = np.array(self.angles) # convert from JAX array to numpy array if applicable.\n",
    "        \n",
    "        qc.ry(angles[0], 0)\n",
    "        qc.rx(angles[1], 0)\n",
    "        qc.ry(angles[2], 1)\n",
    "        qc.rx(angles[3], 1)\n",
    "        \n",
    "        return qc\n",
    "    \n",
    "    # JAX-compatible unitary corresponding to our block\n",
    "    def unitary(self):\n",
    "        if self.gate_name == 'cx':\n",
    "            entangling_matrix = cx_mat\n",
    "        elif self.gate_name == 'cz':\n",
    "            entangling_matrix = cz_mat\n",
    "        else:\n",
    "            print(\"Gate '{}' not yet supported'\".format(self.gate_name))\n",
    "        \n",
    "        x_rotations = jnp.kron(rx_mat(self.angles[1]), rx_mat(self.angles[3]))\n",
    "        y_rotations = jnp.kron(ry_mat(self.angles[0]), ry_mat(self.angles[2]))\n",
    "        \n",
    "        return x_rotations @ y_rotations @ entangling_matrix"
   ]
  },
  {
   "cell_type": "markdown",
   "metadata": {},
   "source": [
    "Here is how they look:\n",
    "`cz` block"
   ]
  },
  {
   "cell_type": "code",
   "execution_count": 7,
   "metadata": {},
   "outputs": [
    {
     "data": {
      "image/png": "[encoded data removed]",
      "text/plain": [
       "<Figure size 267.052x144.48 with 1 Axes>"
      ]
     },
     "execution_count": 7,
     "metadata": {},
     "output_type": "execute_result"
    }
   ],
   "source": [
    "a0, a1, a2, a3 = [Parameter(a) for a in ['a0', 'a1', 'a2', 'a3']]\n",
    "block('cz', [a0, a1, a2, a3]).circuit().draw(output='mpl')"
   ]
  },
  {
   "cell_type": "markdown",
   "metadata": {},
   "source": [
    "and `cx` block"
   ]
  },
  {
   "cell_type": "code",
   "execution_count": 8,
   "metadata": {},
   "outputs": [
    {
     "data": {
      "image/png": "[encoded data removed]",
      "text/plain": [
       "<Figure size 267.052x144.48 with 1 Axes>"
      ]
     },
     "execution_count": 8,
     "metadata": {},
     "output_type": "execute_result"
    }
   ],
   "source": [
    "block('cx', [a0, a1, a2, a3]).circuit().draw(output='mpl')"
   ]
  },
  {
   "cell_type": "markdown",
   "metadata": {},
   "source": [
    "Our `block` class can return a `qiskit` circuit and the correponding unitary matrix. Of course we could have extracted the unitary from the circuit itself via `qiskit` API, but this would make the matrix representation incompatible with `JAX` which will be our workhorse for optimization. So at this point we needed a bit of wheel reivention. Let's check that our implementation is consistent with `qiskit`:"
   ]
  },
  {
   "cell_type": "code",
   "execution_count": 9,
   "metadata": {},
   "outputs": [
    {
     "name": "stdout",
     "output_type": "stream",
     "text": [
      "qiskit unitary is the same as our unitary for block with gate cx: True\n",
      "qiskit unitary is the same as our unitary for block with gate cz: True\n"
     ]
    }
   ],
   "source": [
    "# That's how you use random numbers with JAX. Don't worry if this is not familiar.\n",
    "key, subkey = random.split(key) \n",
    "angles = random.uniform(key, shape=(4,), minval=0, maxval=2*jnp.pi)\n",
    "\n",
    "for gate in ['cx', 'cz']:\n",
    "    b = block(gate, angles)\n",
    "    qc = b.circuit()\n",
    "    qs_unitary = Operator(qc.reverse_bits()).data # Yes, we need to reverse bits in qiskit to match our conventions.\n",
    "    our_unitary = b.unitary()\n",
    "    print('qiskit unitary is the same as our unitary for block with gate {}: {}'.format(gate, jnp.allclose(qs_unitary, our_unitary)))"
   ]
  },
  {
   "cell_type": "markdown",
   "metadata": {},
   "source": [
    "To match matrix representations of quantum circuits might be a headache as I discussed in [another post](https://idnm.github.io/blog/qiskit/tensor%20networks/quantum%20concepts/2021/08/18/Matrix-representation-of-quantum-circuits.html), so this was a neseccary check to do.\n",
    "\n",
    "Our two bulding blocks (`cz` and `cx`) only differ by the type of the two-qubit gate. The circuits that we are going to build seem to do equally well for any choice of two-qubit gate. I will mostly use `cz` gate because it is symmetric under the swap of qubits, but I will also occasinally bring up the `cx` gate to illustrate that it has the same performance. Angles $a_0$-$a_3$ are going to be optimized."
   ]
  },
  {
   "cell_type": "markdown",
   "metadata": {
    "tags": [],
    "toc-hr-collapsed": true
   },
   "source": [
    "## Optimization with `JAX`"
   ]
  },
  {
   "cell_type": "markdown",
   "metadata": {
    "tags": [],
    "toc-hr-collapsed": true
   },
   "source": [
    "### A word about `JAX`"
   ]
  },
  {
   "cell_type": "markdown",
   "metadata": {},
   "source": [
    "What is `JAX`? Well, I think of it as `numpy` on steroids. You can check out [the official documentation](https://jax.readthedocs.io/en/latest/notebooks/quickstart.html) or numerous nice overwievs on the web. For our purposes two key features of `JAX` are\n",
    "1. Autograd  \n",
    "2. JIT or just-in-time compilation\n",
    "\n",
    "Autograd allows to define functions the same you do in `numpy` and have analytic derivatives computed for you. At the moment `grad` function can only be applied to real scalars. For example, let us define the absolute value of the trace of `cx` block as function of rotation's gate angles"
   ]
  },
  {
   "cell_type": "code",
   "execution_count": 10,
   "metadata": {},
   "outputs": [],
   "source": [
    "def block_tr_abs(angles):\n",
    "    b = block('cx', angles)\n",
    "    tr = jnp.trace(b.unitary())\n",
    "    return jnp.abs(tr)"
   ]
  },
  {
   "cell_type": "markdown",
   "metadata": {},
   "source": [
    "Since everything so far has been defined using `jax.numpy` we have immediate access to the gradient of this function"
   ]
  },
  {
   "cell_type": "code",
   "execution_count": 11,
   "metadata": {},
   "outputs": [
    {
     "data": {
      "text/plain": [
       "[DeviceArray(0.03655498, dtype=float32),\n",
       " DeviceArray(-0.25903472, dtype=float32),\n",
       " DeviceArray(-0.7384602, dtype=float32),\n",
       " DeviceArray(-7.450581e-09, dtype=float32)]"
      ]
     },
     "execution_count": 11,
     "metadata": {},
     "output_type": "execute_result"
    }
   ],
   "source": [
    "grad(block_tr_abs)([0.,1.,2.,3.])"
   ]
  },
  {
   "cell_type": "markdown",
   "metadata": {},
   "source": [
    "Autograd feature of `JAX` allows us to just define the loss function associated with our circuit in plain `numpy` terms and use advanced first-order optimizers such as Adam out of the box.\n",
    "\n",
    "`jit`-compilation when used with a bit of care, allows to speed up evaluation of similar expression by orders of magnitude. For example let us compare runtimes of the jitted and unjitted versions of our trace function. Let's first define a sample of random \n",
    "angles"
   ]
  },
  {
   "cell_type": "code",
   "execution_count": 12,
   "metadata": {},
   "outputs": [],
   "source": [
    "test_angles = random.uniform(random.PRNGKey(0), shape=(1000, 4), minval=0, maxval=2*jnp.pi)"
   ]
  },
  {
   "cell_type": "markdown",
   "metadata": {},
   "source": [
    "and time evaluation of unjitted trace function"
   ]
  },
  {
   "cell_type": "code",
   "execution_count": 13,
   "metadata": {},
   "outputs": [
    {
     "name": "stdout",
     "output_type": "stream",
     "text": [
      "CPU times: user 13.2 s, sys: 1.07 s, total: 14.3 s\n",
      "Wall time: 12 s\n"
     ]
    }
   ],
   "source": [
    "%%time\n",
    "for angles in test_angles:\n",
    "    block_tr_abs(angles)"
   ]
  },
  {
   "cell_type": "markdown",
   "metadata": {},
   "source": [
    "Now awe to the power of `jit`!"
   ]
  },
  {
   "cell_type": "code",
   "execution_count": 14,
   "metadata": {},
   "outputs": [
    {
     "name": "stdout",
     "output_type": "stream",
     "text": [
      "CPU times: user 142 ms, sys: 8.66 ms, total: 151 ms\n",
      "Wall time: 134 ms\n"
     ]
    }
   ],
   "source": [
    "%%time\n",
    "jit_block_tr_abs = jit(block_tr_abs)\n",
    "for angles in test_angles:\n",
    "    jit_block_tr_abs(angles)"
   ]
  },
  {
   "cell_type": "markdown",
   "metadata": {},
   "source": [
    "What happend here is that during the first call to the `jit`ted function it's efficient compiled XLA version was constructed and then used to evaluate all subsequent calls. "
   ]
  },
  {
   "cell_type": "markdown",
   "metadata": {
    "tags": [],
    "toc-hr-collapsed": true
   },
   "source": [
    "### Gradient descent"
   ]
  },
  {
   "cell_type": "markdown",
   "metadata": {},
   "source": [
    "We will use the following measure of discrepance between two unitaries $disc(U, V) = 1-\\frac1{N}\\operatorname{Tr}\\left( U^\\dagger V\\right)$ where $U,V$ are $N\\times N$ matices. It is normalized so that $disc(U,U)=0$. Note that this measure is insensitive to global phases."
   ]
  },
  {
   "cell_type": "code",
   "execution_count": 15,
   "metadata": {},
   "outputs": [],
   "source": [
    "def disc(U, U_target):\n",
    "    n = U_target.shape[0]\n",
    "    return 1-jnp.abs((U.conj() * U_target).sum())/n"
   ]
  },
  {
   "cell_type": "markdown",
   "metadata": {},
   "source": [
    "Here is the optimization routine that we are \n",
    "going to use. It is pretty straightforward and I will not give much explanations, but illustrate with an example."
   ]
  },
  {
   "cell_type": "code",
   "execution_count": 16,
   "metadata": {},
   "outputs": [],
   "source": [
    "@partial(jit, static_argnums=(0, 1, )) # <--- Here is where the magic happens! Remove this line and everything will run 1000 times slower:)\n",
    "def unitary_update(loss_and_grad, opt, opt_state, angles):\n",
    "    \"\"\"Single update step.\"\"\"\n",
    "    loss, grads = loss_and_grad(angles)\n",
    "    updates, opt_state = opt.update(grads, opt_state)\n",
    "    angles = optax.apply_updates(angles, updates)\n",
    "    return angles, opt_state, loss\n",
    "\n",
    "def unitary_learn(U_func, U_target, n_angles, \n",
    "                  init_angles=None, key=random.PRNGKey(0),\n",
    "                  learning_rate = 0.01, num_iterations=5000, \n",
    "                  target_disc = 1e-10):\n",
    "    \"\"\"Use Adam optimizer to minimize discrepancy between unitary U_func depending on n_angles and U_target. \n",
    "    Stop optimization when either max number of iterations is reached if the target discrepancy is achieved. \"\"\"\n",
    "    \n",
    "    # If initial angles are not provided generate them at random.\n",
    "    if init_angles is None:\n",
    "        key = random.PRNGKey(0)\n",
    "        angles = random.uniform(key, shape=(n_angles,), minval=0, maxval=2*jnp.pi)\n",
    "    else:\n",
    "        angles = init_angles\n",
    "    \n",
    "    # Loss function to minimize is dicrepancy defined above.\n",
    "    loss_func = lambda angles: disc(U_func(angles), U_target)\n",
    "    loss_and_grad = value_and_grad(loss_func)\n",
    "\n",
    "    # Optimizer is taken from the `optax` library and its use is self-explanotory.\n",
    "    opt = optax.adam(learning_rate)\n",
    "    opt_state = opt.init(angles)\n",
    "    \n",
    "    # Optimization cycle\n",
    "    angles_history=[]\n",
    "    loss_history=[]\n",
    "    for _ in range(num_iterations):\n",
    "        angles, opt_state, loss = unitary_update(loss_and_grad, opt, opt_state, angles)\n",
    "        angles_history.append(angles)\n",
    "        loss_history.append(loss)\n",
    "        if loss < target_disc:\n",
    "            break\n",
    "    \n",
    "    return angles_history, loss_history"
   ]
  },
  {
   "cell_type": "markdown",
   "metadata": {},
   "source": [
    "OK, now a very simple example. Say we want to find a $ZXZ$ decomposition of  $Y$-gate. Define:"
   ]
  },
  {
   "cell_type": "code",
   "execution_count": 17,
   "metadata": {},
   "outputs": [],
   "source": [
    "def zxz_ansatz(angles):\n",
    "    return rz_mat(angles[0]) @ rx_mat(angles[1]) @ rz_mat(angles[2])"
   ]
  },
  {
   "cell_type": "markdown",
   "metadata": {},
   "source": [
    "Learning is now very simple: we give `unitary_learn` the ansatz unitary as function of angles, the target unitary and also explicitly the number of parameters to be trained:"
   ]
  },
  {
   "cell_type": "code",
   "execution_count": 18,
   "metadata": {},
   "outputs": [],
   "source": [
    "angles_history, loss_history = unitary_learn(zxz_ansatz, y_mat, 3)"
   ]
  },
  {
   "cell_type": "markdown",
   "metadata": {},
   "source": [
    "We can visualize the learning progress as follows:"
   ]
  },
  {
   "cell_type": "code",
   "execution_count": 19,
   "metadata": {},
   "outputs": [
    {
     "data": {
      "image/png": "[encoded data removed]",
      "text/plain": [
       "<Figure size 432x288 with 1 Axes>"
      ]
     },
     "metadata": {
      "needs_background": "light"
     },
     "output_type": "display_data"
    }
   ],
   "source": [
    "plt.plot(loss_history)\n",
    "plt.yscale('log')"
   ]
  },
  {
   "cell_type": "markdown",
   "metadata": {},
   "source": [
    "The learned angles in $ZXZ$ decomposition are"
   ]
  },
  {
   "cell_type": "code",
   "execution_count": 20,
   "metadata": {},
   "outputs": [
    {
     "data": {
      "text/plain": [
       "DeviceArray([6.59216  , 3.1411407, 3.4505684], dtype=float32)"
      ]
     },
     "execution_count": 20,
     "metadata": {},
     "output_type": "execute_result"
    }
   ],
   "source": [
    "angles_history[-1]"
   ]
  },
  {
   "cell_type": "markdown",
   "metadata": {},
   "source": [
    "And it is not difficult to check directly that the result is equal to the $Y$ matrix up to a global phase with reasonable accuracy, indeed"
   ]
  },
  {
   "cell_type": "code",
   "execution_count": 21,
   "metadata": {},
   "outputs": [
    {
     "data": {
      "text/plain": [
       "DeviceArray([[0.+0.j, 0.-1.j],\n",
       "             [0.+1.j, 0.+0.j]], dtype=complex64)"
      ]
     },
     "execution_count": 21,
     "metadata": {},
     "output_type": "execute_result"
    }
   ],
   "source": [
    "jnp.around(1j*zxz_ansatz(angles_history[-1]), 3)"
   ]
  },
  {
   "cell_type": "markdown",
   "metadata": {
    "tags": [],
    "toc-hr-collapsed": true
   },
   "source": [
    "## Quantum circuits with numpy"
   ]
  },
  {
   "cell_type": "markdown",
   "metadata": {},
   "source": [
    "OK, now comes the tedious part. We need a simple and efficient way to assemble 1- and 2-qubit gates into quantum circuits in pure `numpy`. This requires some careful juggling of tensor indices and should probably deserve a separate discussion. But just to make sure that nobody reads this post to the I dump everything right here.\n",
    "\n",
    "First, we'll think of a quantum circuit with $n-$qubits as $[2,2,\\dots,2]=[2]^n$ tensor. \n",
    "\n",
    "Explanations and pictures here!\n",
    "\n",
    "We need to implement several procedures to construct unitaries of the quantum circuits."
   ]
  },
  {
   "cell_type": "code",
   "execution_count": 22,
   "metadata": {},
   "outputs": [],
   "source": [
    "def transposition(n, placement):\n",
    "    w = len(placement)\n",
    "    t = list(range(w, n))\n",
    "\n",
    "    for i, p in enumerate(placement):\n",
    "        t.insert(p, i)\n",
    "\n",
    "    return t\n",
    "\n",
    "def apply_gate_to_tensor(gate, tensor, placement):\n",
    "    gate_width = int(len(gate.shape)/2)\n",
    "    tensor_width = int(len(tensor.shape)/2)\n",
    "    gate_contraction_axes = list(range(gate_width, 2*gate_width))\n",
    "\n",
    "    contraction = jnp.tensordot(gate, tensor, axes=[gate_contraction_axes, placement])\n",
    "    t = transposition(tensor_width, placement) + list(range(tensor_width, 2*tensor_width)) # last indices are intact\n",
    "\n",
    "    return jnp.transpose(contraction, axes=t)\n",
    "\n",
    "\n",
    "def split_angles(angles, num_qubits, layer_len, num_layers, free_placements_len):\n",
    "    \n",
    "    surface_angles = angles[:3*num_qubits].reshape(num_qubits, 3)\n",
    "    block_angles = angles[3*num_qubits:].reshape(-1, 4)\n",
    "    layers_angles = block_angles[:layer_len*num_layers].reshape(num_layers, layer_len, 4)\n",
    "    free_block_angles = block_angles[layer_len*num_layers:]\n",
    "    \n",
    "    return surface_angles, block_angles, layers_angles, free_block_angles\n",
    "\n",
    "def build_unitary(num_qubits, block_type, angles, layer_placements=[[], 0], free_placements=[]):\n",
    "    \n",
    "    layer, num_layers = layer_placements\n",
    "    \n",
    "    layer_depth = len(layer)    \n",
    "    num_blocks = len(layer)*num_layers+len(free_placements)\n",
    "    \n",
    "    surface_angles, _ , layers_angles, free_block_angles = split_angles(angles, num_qubits, len(layer), num_layers, len(free_placements))\n",
    "    \n",
    "#     print('u angles are {}'.format(angles))\n",
    "#     print('u surface angles are {}'.format(surface_angles))\n",
    "#     print('u layers angles are {}'.format(layers_angles))\n",
    "#     print('u free block angles are {}'.format(free_blocks_angles))\n",
    "\n",
    "    u = jnp.identity(2**num_qubits).reshape([2]*num_qubits*2)\n",
    "\n",
    "    # Initial round of single-qubit gates\n",
    "    for i, a in enumerate(surface_angles):\n",
    "        gate = rz_mat(a[2]) @ rx_mat(a[1]) @ rz_mat(a[0])\n",
    "        u = apply_gate_to_tensor(gate, u, [i])\n",
    "    \n",
    "    # Sequence of layers wrapped in fori_loop.\n",
    "    layers_angles = layers_angles.reshape(num_layers, layer_depth, 4)\n",
    "\n",
    "    def apply_layer(i, u, layer, layers_angles):\n",
    "        angles = layers_angles[i]\n",
    "    \n",
    "        for a, p in zip(angles, layer):\n",
    "            gate = block(block_type, a).unitary().reshape(2,2,2,2)\n",
    "            u = apply_gate_to_tensor(gate, u, p)\n",
    "            \n",
    "        return u\n",
    "\n",
    "    if num_layers>0:\n",
    "        u = lax.fori_loop(0, num_layers, lambda i, u: apply_layer(i, u, layer, layers_angles), u)\n",
    "    \n",
    "    # Add remainder(free) blocks.\n",
    "    for a, p in zip(free_block_angles, free_placements):\n",
    "        gate = block(block_type, a).unitary().reshape(2,2,2,2)\n",
    "        u = apply_gate_to_tensor(gate, u, p)\n",
    "\n",
    "    return u.reshape(2**num_qubits, 2**num_qubits)\n"
   ]
  },
  {
   "cell_type": "markdown",
   "metadata": {
    "tags": []
   },
   "source": [
    "## Packing everything together: ansatz circuits"
   ]
  },
  {
   "cell_type": "markdown",
   "metadata": {},
   "source": [
    "Now that we have defined our building blocks and convinience functions to assemble them together it is time to pack everything together and reap the harvest.\n",
    "\n",
    "I will define `ansatz` class that assembles our building blocks according to a predefined pattern. It's `circuit` method gives a `qiskit` circuit which can be used for visualization and cross-checks. It's `unitary` attribute returns fully `jax`-compatible matri representation of the same circuit. Finally, its `learn` method uses our optimization routine to approximate atarget unitary. First the code, then an example."
   ]
  },
  {
   "cell_type": "code",
   "execution_count": 27,
   "metadata": {},
   "outputs": [],
   "source": [
    "class ansatz():\n",
    "    \n",
    "    def __init__(self, num_qubits, block_type, layer_placements=[[], 0], free_placements=[]):\n",
    "        \n",
    "        self.num_qubits = num_qubits\n",
    "        self.block_type = block_type\n",
    "        \n",
    "        self.layer, self.num_layers = layer_placements\n",
    "        self.free_placements = free_placements\n",
    "        self.all_placements = self.layer*self.num_layers+free_placements\n",
    "        \n",
    "        self.num_angles = 3*num_qubits+4*len(self.all_placements)\n",
    "        \n",
    "        self.unitary = lambda angles: build_unitary(self.num_qubits, self.block_type, angles, \n",
    "                                                     [self.layer, self.num_layers], self.free_placements)\n",
    "    def circuit(self, angles=None): \n",
    "        \"\"\"qiskit circuit. If no angles given construct a parametric circuit.\"\"\"\n",
    "        \n",
    "        if angles is None:\n",
    "            angles = np.array([Parameter('a{}'.format(i)) for i in range(self.num_angles)])\n",
    "            \n",
    "        surface_angles, block_angles, _, _ = split_angles(angles, self.num_qubits, \n",
    "                                                          len(self.layer), self.num_layers, \n",
    "                                                          len(self.free_placements))        \n",
    "        \n",
    "        qc = QuantumCircuit(self.num_qubits)\n",
    "        \n",
    "        # Initial rounf of single-qubit gates\n",
    "        for n, a in enumerate(surface_angles):\n",
    "            qc.rz(a[0], n)\n",
    "            qc.rx(a[1], n)\n",
    "            qc.rz(a[2], n)\n",
    "        \n",
    "        # Entangling gates accoring to placements\n",
    "        for a, p in zip(block_angles, self.all_placements):\n",
    "            qc_block = block(self.block_type, a).circuit() \n",
    "            qc = qc.compose(qc_block, p)\n",
    "            \n",
    "        return qc\n",
    "        \n",
    "    def learn(self, u_target, **kwargs): \n",
    "        \"\"\"Use numerical optimization to approximate u_target.\"\"\"\n",
    "        u_func = self.unitary\n",
    "        return unitary_learn(u_func, u_target, self.num_angles, **kwargs)"
   ]
  },
  {
   "cell_type": "markdown",
   "metadata": {},
   "source": [
    "Here is an example that should illustrate how all this can be used."
   ]
  },
  {
   "cell_type": "code",
   "execution_count": 35,
   "metadata": {
    "tags": []
   },
   "outputs": [],
   "source": [
    "n_qubits = 3\n",
    "block_type = 'cx'\n",
    "# For technical reasons all entangling gates are divided into 'layers' and 'free' gates. \n",
    "single_layer = [[0, 1], [2, 1]] # We make single layer consisting of 'cx' block on qubits [0,1]\n",
    "                                # followed by reversed 'cx' block on qubits [1,2]\n",
    "layer_placements = [single_layer, 3] # The layer is repeated 3 times\n",
    "free_placements = [[1, 0], [0, 1], [1, 2], [2, 1]] # After layers are placed remaining `free placements` are appended.\n",
    "\n",
    "anz = ansatz(n_qubits, block_type, layer_placements=layer_placements, free_placements=free_placements)"
   ]
  },
  {
   "cell_type": "markdown",
   "metadata": {},
   "source": [
    "Here is what resulting circuit looks like."
   ]
  },
  {
   "cell_type": "code",
   "execution_count": 36,
   "metadata": {},
   "outputs": [
    {
     "data": {
      "image/png": "[encoded data removed]",
      "text/plain": [
       "<Figure size 1591.6x445.48 with 1 Axes>"
      ]
     },
     "execution_count": 36,
     "metadata": {},
     "output_type": "execute_result"
    }
   ],
   "source": [
    "anz.circuit().draw(output='mpl')"
   ]
  },
  {
   "cell_type": "markdown",
   "metadata": {},
   "source": [
    "Just to make sure let us check that the unitary matrix of this circuit extracted from qiskit agrees with our own implementation for a random set of angles."
   ]
  },
  {
   "cell_type": "code",
   "execution_count": 43,
   "metadata": {},
   "outputs": [
    {
     "name": "stdout",
     "output_type": "stream",
     "text": [
      "False\n"
     ]
    },
    {
     "ename": "NameError",
     "evalue": "name 'ffuck' is not defined",
     "output_type": "error",
     "traceback": [
      "\u001b[0;31m---------------------------------------------------------------------------\u001b[0m",
      "\u001b[0;31mNameError\u001b[0m                                 Traceback (most recent call last)",
      "\u001b[0;32m<ipython-input-43-b3076a0c0869>\u001b[0m in \u001b[0;36m<module>\u001b[0;34m\u001b[0m\n\u001b[1;32m      3\u001b[0m \u001b[0mour_u\u001b[0m \u001b[0;34m=\u001b[0m \u001b[0manz\u001b[0m\u001b[0;34m.\u001b[0m\u001b[0munitary\u001b[0m\u001b[0;34m(\u001b[0m\u001b[0mangles\u001b[0m\u001b[0;34m)\u001b[0m \u001b[0;31m# our matrix representation\u001b[0m\u001b[0;34m\u001b[0m\u001b[0;34m\u001b[0m\u001b[0m\n\u001b[1;32m      4\u001b[0m \u001b[0mprint\u001b[0m\u001b[0;34m(\u001b[0m\u001b[0mjnp\u001b[0m\u001b[0;34m.\u001b[0m\u001b[0mallclose\u001b[0m\u001b[0;34m(\u001b[0m\u001b[0mqs_u\u001b[0m\u001b[0;34m,\u001b[0m \u001b[0mour_u\u001b[0m\u001b[0;34m,\u001b[0m \u001b[0matol\u001b[0m\u001b[0;34m=\u001b[0m\u001b[0;36m1e-2\u001b[0m\u001b[0;34m,\u001b[0m \u001b[0mrtol\u001b[0m\u001b[0;34m=\u001b[0m\u001b[0;36m1e-2\u001b[0m\u001b[0;34m)\u001b[0m\u001b[0;34m)\u001b[0m\u001b[0;34m\u001b[0m\u001b[0;34m\u001b[0m\u001b[0m\n\u001b[0;32m----> 5\u001b[0;31m \u001b[0mffuck\u001b[0m\u001b[0;34m\u001b[0m\u001b[0;34m\u001b[0m\u001b[0m\n\u001b[0m",
      "\u001b[0;31mNameError\u001b[0m: name 'ffuck' is not defined"
     ]
    }
   ],
   "source": [
    "angles = random.uniform(random.PRNGKey(0), shape=(anz.num_angles,), minval=0,maxval=2*jnp.pi)\n",
    "qs_u = Operator(anz.circuit(angles).reverse_bits()).data # qiskit matrix representation\n",
    "our_u = anz.unitary(angles) # our matrix representation\n",
    "print(jnp.allclose(qs_u, our_u, atol=1e-2, rtol=1e-2))\n",
    "ffuck"
   ]
  },
  {
   "cell_type": "markdown",
   "metadata": {
    "tags": []
   },
   "source": [
    "## Layers"
   ]
  },
  {
   "cell_type": "code",
   "execution_count": 23,
   "metadata": {},
   "outputs": [],
   "source": [
    "def sequ_layer(num_qubits):\n",
    "    return [[i,j] for i in range(num_qubits) for j in range(i+1, num_qubits)]\n",
    "\n",
    "def fill_layers(layer, depth):\n",
    "    num_complete_layers = depth // len(layer)\n",
    "    complete_layers = [layer, num_complete_layers]\n",
    "    incomplete_layer = layer[:depth % len(layer)]\n",
    "    \n",
    "    return complete_layers, incomplete_layer"
   ]
  },
  {
   "cell_type": "markdown",
   "metadata": {
    "tags": [],
    "toc-hr-collapsed": true
   },
   "source": [
    "# Experiments"
   ]
  },
  {
   "cell_type": "markdown",
   "metadata": {
    "tags": [],
    "toc-hr-collapsed": true
   },
   "source": [
    "## Learning 2-qubit random unitary"
   ]
  },
  {
   "cell_type": "markdown",
   "metadata": {},
   "source": [
    "Here is how we can learn a random two-qubit unitary. The ansatz is circuit is this:"
   ]
  },
  {
   "cell_type": "code",
   "execution_count": 24,
   "metadata": {},
   "outputs": [
    {
     "data": {
      "image/png": "[encoded data removed]",
      "text/plain": [
       "<Figure size 808.852x144.48 with 1 Axes>"
      ]
     },
     "execution_count": 24,
     "metadata": {},
     "output_type": "execute_result"
    }
   ],
   "source": [
    "u_target = unitary_group.rvs(4, random_state=0)\n",
    "ans = ansatz(2, 'cz', free_placements=[[0,1], [0,1], [0, 1]])\n",
    "ans.circuit().draw(output='mpl')"
   ]
  },
  {
   "cell_type": "markdown",
   "metadata": {},
   "source": [
    "Invoking the learning process is easy as pie:"
   ]
  },
  {
   "cell_type": "code",
   "execution_count": 25,
   "metadata": {},
   "outputs": [
    {
     "name": "stdout",
     "output_type": "stream",
     "text": [
      "CPU times: user 2.56 s, sys: 34.1 ms, total: 2.59 s\n",
      "Wall time: 2.54 s\n"
     ]
    },
    {
     "data": {
      "image/png": "[encoded data removed]",
      "text/plain": [
       "<Figure size 432x288 with 1 Axes>"
      ]
     },
     "metadata": {
      "needs_background": "light"
     },
     "output_type": "display_data"
    }
   ],
   "source": [
    "%%time\n",
    "\n",
    "angles_history, loss_history = ans.learn(u_target)\n",
    "plt.plot(loss_history)\n",
    "plt.yscale('log')"
   ]
  },
  {
   "cell_type": "markdown",
   "metadata": {},
   "source": [
    "The graph shows that we achive great fidelity in under 500 iterations. Just be be absolutely sure let us double-check using `qiskit`:"
   ]
  },
  {
   "cell_type": "code",
   "execution_count": 26,
   "metadata": {},
   "outputs": [
    {
     "data": {
      "text/plain": [
       "DeviceArray(2.3841858e-07, dtype=float32)"
      ]
     },
     "execution_count": 26,
     "metadata": {},
     "output_type": "execute_result"
    }
   ],
   "source": [
    "angles = angles_history[-1]\n",
    "qc = ans.circuit(angles)\n",
    "u_qs = Operator(qc.reverse_bits()).data\n",
    "disc(u_qs, u_target)"
   ]
  },
  {
   "cell_type": "markdown",
   "metadata": {},
   "source": [
    "You can try various experiments here: changing gate type from `cz` to `cx` (shoud not affect the result), decreasing the number of layers (fidelity won't be nearly as good) etc."
   ]
  },
  {
   "cell_type": "markdown",
   "metadata": {
    "tags": []
   },
   "source": [
    "## Learning 3-qubit random unitary"
   ]
  },
  {
   "cell_type": "markdown",
   "metadata": {},
   "source": [
    "OK, here instead of working at the theoretical lower bound let us make a sweep to see how fidelity increases (error drops) with the number of layers."
   ]
  },
  {
   "cell_type": "code",
   "execution_count": 125,
   "metadata": {},
   "outputs": [
    {
     "name": "stdout",
     "output_type": "stream",
     "text": [
      "CPU times: user 43.5 s, sys: 1.75 s, total: 45.3 s\n",
      "Wall time: 40.1 s\n"
     ]
    }
   ],
   "source": [
    "%%time\n",
    "\n",
    "n_q = 3\n",
    "u_target = unitary_group.rvs(2**n_q, random_state=0)\n",
    "\n",
    "best_loss = [[], []]\n",
    "for depth in range(4): # TLB(3)=14\n",
    "    layer_placemets, free_placements = fill_layers(sequ_layer(n_q), depth)\n",
    "    for i, gate in enumerate(['cx', 'cz']):\n",
    "        ans = ansatz(n_q, gate, layer_placements=layer_placemets, free_placements=free_placements)\n",
    "        angles, loss_history = ans.learn(u_target, target_disc=10e-4)\n",
    "        best_loss[i].append(min(loss_history))\n",
    "\n",
    "plt.plot(best_loss[0], label='cx loss')\n",
    "plt.plot(best_loss[1], label='cz loss')\n",
    "plt.legend()"
   ]
  },
  {
   "cell_type": "markdown",
   "metadata": {},
   "source": [
    "The lesson here is that both types of two-qubits gate perform similarly well at all depths. I have not done experimenting with other gates, but I expect that this is very generic, i.e. it does not really matter what kind of gate to use at least as far as random unitaries are concerned."
   ]
  },
  {
   "cell_type": "markdown",
   "metadata": {
    "tags": [],
    "toc-hr-collapsed": true
   },
   "source": [
    "## Learning 6-qubit random unitary"
   ]
  },
  {
   "cell_type": "markdown",
   "metadata": {},
   "source": [
    "I do know that 3 is followed by 4, but shall we perhaps get more ambitious? Let's try to compile a 6-qubit random unitary (you can change $n_q=6$ to whatever you like):"
   ]
  },
  {
   "cell_type": "code",
   "execution_count": 135,
   "metadata": {},
   "outputs": [
    {
     "name": "stdout",
     "output_type": "stream",
     "text": [
      "CPU times: user 10min 39s, sys: 1min 24s, total: 12min 4s\n",
      "Wall time: 11min 54s\n"
     ]
    },
    {
     "data": {
      "image/png": "[encoded data removed]",
      "text/plain": [
       "<Figure size 432x288 with 1 Axes>"
      ]
     },
     "metadata": {
      "needs_background": "light"
     },
     "output_type": "display_data"
    }
   ],
   "source": [
    "%%time\n",
    "\n",
    "n_q = 6\n",
    "depth = TLB(n_q)\n",
    "layer_placements, free_placements = fill_layers(sequ_layer(n_q), depth)\n",
    "\n",
    "u_target = unitary_group.rvs(2**n_q, random_state=0)\n",
    "ans = ansatz(n_q, 'cz', layer_placements=layer_placements, free_placements=free_placements)\n",
    "\n",
    "angles_history, loss_history = ans.learn(u_target, num_iterations=10000)\n",
    "\n",
    "plt.plot(loss_history)\n",
    "plt.yscale('log')"
   ]
  },
  {
   "cell_type": "markdown",
   "metadata": {},
   "source": [
    "Note that depth of the theoretical lower bound for 6 qubits is $TLB(6)=1020$ which implies that there are $\\approx 4000$ parameters in our ansatz. On my modest laptop the training completes in under 3 minutes. I would not claim this to be the cutting edge, but our `JAX` setup seems to be no worse than results from the published papers."
   ]
  },
  {
   "cell_type": "code",
   "execution_count": 138,
   "metadata": {},
   "outputs": [],
   "source": [
    "qc = QuantumCircuit(3)\n",
    "qc.ccx(0,1,2)\n",
    "u_toff3 = Operator(qc.reverse_bits()).data"
   ]
  },
  {
   "cell_type": "code",
   "execution_count": 147,
   "metadata": {},
   "outputs": [
    {
     "name": "stdout",
     "output_type": "stream",
     "text": [
      "CPU times: user 9.12 s, sys: 234 ms, total: 9.35 s\n",
      "Wall time: 8.58 s\n"
     ]
    },
    {
     "data": {
      "image/png": "[encoded data removed]",
      "text/plain": [
       "<Figure size 432x288 with 1 Axes>"
      ]
     },
     "metadata": {
      "needs_background": "light"
     },
     "output_type": "display_data"
    }
   ],
   "source": [
    "%%time\n",
    "\n",
    "layer_placements, free_placements = fill_layers(sequ_layer(3), 7)\n",
    "ans = ansatz(3, 'cx', layer_placements=layer_placements, free_placements=free_placements)\n",
    "ans.circuit().draw(output='mpl')\n",
    "\n",
    "u = ans.unitary\n",
    "\n",
    "\n",
    "\n",
    "angles_history, loss_history = ans.learn(u_toff3)\n",
    "plt.plot(loss_history)\n",
    "plt.yscale('log')"
   ]
  },
  {
   "cell_type": "markdown",
   "metadata": {},
   "source": [
    "## Restricted topology"
   ]
  }
 ],
 "metadata": {
  "kernelspec": {
   "display_name": "Python 3",
   "language": "python",
   "name": "python3"
  },
  "language_info": {
   "codemirror_mode": {
    "name": "ipython",
    "version": 3
   },
   "file_extension": ".py",
   "mimetype": "text/x-python",
   "name": "python",
   "nbconvert_exporter": "python",
   "pygments_lexer": "ipython3",
   "version": "3.8.10"
  },
  "varInspector": {
   "cols": {
    "lenName": 16,
    "lenType": 16,
    "lenVar": 40
   },
   "kernels_config": {
    "python": {
     "delete_cmd_postfix": "",
     "delete_cmd_prefix": "del ",
     "library": "var_list.py",
     "varRefreshCmd": "print(var_dic_list())"
    },
    "r": {
     "delete_cmd_postfix": ") ",
     "delete_cmd_prefix": "rm(",
     "library": "var_list.r",
     "varRefreshCmd": "cat(var_dic_list()) "
    }
   },
   "types_to_exclude": [
    "module",
    "function",
    "builtin_function_or_method",
    "instance",
    "_Feature"
   ],
   "window_display": false
  },
  "widgets": {
   "application/vnd.jupyter.widget-state+json": {
    "state": {},
    "version_major": 2,
    "version_minor": 0
   }
  }
 },
 "nbformat": 4,
 "nbformat_minor": 4
}
