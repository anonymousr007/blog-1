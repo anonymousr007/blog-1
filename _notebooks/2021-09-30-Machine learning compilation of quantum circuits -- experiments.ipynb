{
 "cells": [
  {
   "cell_type": "markdown",
   "metadata": {
    "tags": [],
    "toc-hr-collapsed": true
   },
   "source": [
    "# Machine learning compilation of quantum circuits -- experiments\n",
    "> Flexible and efficient learning with JAX+numpy\n",
    "- toc: true \n",
    "- badges: true\n",
    "- comments: true\n",
    "- categories: [qiskit, JAX, machine learning]\n",
    "- image: images/upsidedown.jpg"
   ]
  },
  {
   "cell_type": "markdown",
   "metadata": {
    "tags": [],
    "toc-hr-collapsed": true
   },
   "source": [
    "# Introduction"
   ]
  },
  {
   "cell_type": "markdown",
   "metadata": {},
   "source": [
    "Introduction ... "
   ]
  },
  {
   "cell_type": "markdown",
   "metadata": {
    "tags": [],
    "toc-hr-collapsed": true
   },
   "source": [
    "# Imports"
   ]
  },
  {
   "cell_type": "code",
   "execution_count": 57,
   "metadata": {
    "tags": []
   },
   "outputs": [],
   "source": [
    "import jax.numpy as jnp\n",
    "import numpy as np\n",
    "\n",
    "from jax import random, value_and_grad, ops, jit, lax, vmap, grad, partial\n",
    "key = random.PRNGKey(42)\n",
    "\n",
    "# !pip install tensornetwork\n",
    "# !pip install optax\n",
    "# !pip install qiskit\n",
    "# !pip install pylatexenc\n",
    "\n",
    "import tensornetwork as tn\n",
    "tn.set_default_backend('jax')\n",
    "\n",
    "import optax\n",
    "\n",
    "from qiskit import QuantumCircuit, transpile\n",
    "from qiskit.quantum_info import Operator, Statevector\n",
    "from qiskit.circuit import Parameter\n",
    "from qiskit.transpiler.passes.synthesis import UnitarySynthesis\n",
    "from qiskit.transpiler import PassManager\n",
    "from qiskit.converters import circuit_to_gate\n",
    "\n",
    "from scipy.stats import unitary_group\n",
    "\n",
    "import matplotlib.pyplot as plt\n",
    "import re"
   ]
  },
  {
   "cell_type": "markdown",
   "metadata": {
    "tags": [],
    "toc-hr-collapsed": true
   },
   "source": [
    "# Building blocks"
   ]
  },
  {
   "cell_type": "markdown",
   "metadata": {},
   "source": [
    "The circuits that we are going to be train will be built out of two types of two-qubit blocks. Here are the definitions:"
   ]
  },
  {
   "cell_type": "code",
   "execution_count": 69,
   "metadata": {},
   "outputs": [],
   "source": [
    "cx_mat = jnp.array([[1, 0, 0, 0],\n",
    "                    [0, 1, 0, 0],\n",
    "                    [0, 0, 0, 1],\n",
    "                    [0, 0, 1, 0]])\n",
    "\n",
    "cz_mat = jnp.array([[1, 0, 0, 0],\n",
    "                    [0, 1, 0, 0],\n",
    "                    [0, 0, 1, 0],\n",
    "                    [0, 0, 0, -1]])\n",
    "\n",
    "x_mat = jnp.array([[0, 1],\n",
    "                   [1, 0]])\n",
    "\n",
    "y_mat = jnp.array([[0, -1j],\n",
    "                   [1j, 0]], dtype=jnp.complex64)\n",
    "\n",
    "z_mat = jnp.array([[1, 0],\n",
    "                   [0, -1]])\n",
    "\n",
    "def rx_mat(a):\n",
    "    return jnp.cos(a/2)*jnp.identity(2)-1j*x_mat*jnp.sin(a/2)\n",
    "\n",
    "def ry_mat(a):\n",
    "    return jnp.cos(a/2)*jnp.identity(2)-1j*y_mat*jnp.sin(a/2)\n",
    "\n",
    "def rz_mat(a):\n",
    "    return jnp.cos(a/2)*jnp.identity(2)-1j*z_mat*jnp.sin(a/2)\n",
    "\n",
    "class block():\n",
    "    def __init__(self, gate_name, angles):\n",
    "        self.gate_name = gate_name\n",
    "        self.angles = angles\n",
    "        \n",
    "    def circuit(self):\n",
    "        qc = QuantumCircuit(2)\n",
    "        if self.gate_name == 'cx':\n",
    "            qc.cx(0, 1)\n",
    "        elif self.gate_name == 'cz':\n",
    "            qc.cz(0, 1)\n",
    "        else:\n",
    "            print(\"Gate '{}' not yet supported'\".format(self.gate_name))\n",
    "        \n",
    "        angles = np.array(self.angles) # convert from JAX array to numpy array if applicable.\n",
    "        \n",
    "        qc.ry(angles[0], 0)\n",
    "        qc.rx(angles[1], 0)\n",
    "        qc.ry(angles[2], 1)\n",
    "        qc.rx(angles[3], 1)\n",
    "        \n",
    "        return qc\n",
    "    \n",
    "    def unitary(self):\n",
    "        if self.gate_name == 'cx':\n",
    "            entangling_matrix = cx_mat\n",
    "        elif self.gate_name == 'cz':\n",
    "            entangling_matrix = cz_mat\n",
    "        else:\n",
    "            print(\"Gate '{}' not yet supported'\".format(self.gate_name))\n",
    "        \n",
    "        x_rotations = jnp.kron(rx_mat(self.angles[1]), rx_mat(self.angles[3]))\n",
    "        y_rotations = jnp.kron(ry_mat(self.angles[0]), ry_mat(self.angles[2]))\n",
    "        \n",
    "        return x_rotations @ y_rotations @ entangling_matrix"
   ]
  },
  {
   "cell_type": "markdown",
   "metadata": {},
   "source": [
    "Here is how they look:\n",
    "`cz` block"
   ]
  },
  {
   "cell_type": "code",
   "execution_count": 71,
   "metadata": {},
   "outputs": [
    {
     "data": {
      "image/png": "[encoded data removed]",
      "text/plain": [
       "<Figure size 267.052x144.48 with 1 Axes>"
      ]
     },
     "execution_count": 71,
     "metadata": {},
     "output_type": "execute_result"
    }
   ],
   "source": [
    "a0, a1, a2, a3 = [Parameter(a) for a in ['a0', 'a1', 'a2', 'a3']]\n",
    "block('cz', [a0, a1, a2, a3]).circuit().draw(output='mpl')"
   ]
  },
  {
   "cell_type": "markdown",
   "metadata": {},
   "source": [
    "and `cx` block"
   ]
  },
  {
   "cell_type": "code",
   "execution_count": 72,
   "metadata": {},
   "outputs": [
    {
     "data": {
      "image/png": "[encoded data removed]",
      "text/plain": [
       "<Figure size 267.052x144.48 with 1 Axes>"
      ]
     },
     "execution_count": 72,
     "metadata": {},
     "output_type": "execute_result"
    }
   ],
   "source": [
    "block('cx', [a0, a1, a2, a3]).circuit().draw(output='mpl')"
   ]
  },
  {
   "cell_type": "markdown",
   "metadata": {},
   "source": [
    "They only differ by the type of the two-qubit gate. The circuits that we are going to build seem to do equally well for any type of two-qubit gate. I will mostly use `cz` gate because it is symmetric under the swap of qubits, but I will also occasinally bring up the `cx` gate to illustrate that it has the same performance. Angles $a_0$-$a_3$ are going to be optimized. Together with the circuits our `block` class can return a unitary corresponding to the cicuit. Of course we could have extracted the unitary from the circuit itself via `qiskit` API, but this would make the matrix representation incompatible with JAX that we will rely heavily for optimization. So at this point we need a bit of wheel reivention. Let us check that our implementation is consisten with `qiskit`:"
   ]
  },
  {
   "cell_type": "code",
   "execution_count": 73,
   "metadata": {},
   "outputs": [
    {
     "name": "stdout",
     "output_type": "stream",
     "text": [
      "True\n",
      "True\n"
     ]
    }
   ],
   "source": [
    "key, subkey = random.split(key)\n",
    "angles = random.uniform(key, shape=(4,), minval=0, maxval=2*jnp.pi)\n",
    "for gate in ['cx', 'cz']:\n",
    "    b = block(gate, angles)\n",
    "    qc = b.circuit()\n",
    "    qs_unitary = Operator(qc.reverse_bits()).data # Yes, we need to reverse bits in qiskit to match our conventions.\n",
    "    our_unitary = b.unitary()\n",
    "    print(jnp.allclose(qs_unitary, our_unitary))"
   ]
  },
  {
   "cell_type": "markdown",
   "metadata": {
    "tags": [],
    "toc-hr-collapsed": true
   },
   "source": [
    "# Ansatz circuits"
   ]
  },
  {
   "cell_type": "markdown",
   "metadata": {},
   "source": [
    "Now, let us build our ansatz circuits from these blocks."
   ]
  },
  {
   "cell_type": "markdown",
   "metadata": {
    "tags": [],
    "toc-hr-collapsed": true
   },
   "source": [
    "## The code"
   ]
  },
  {
   "cell_type": "code",
   "execution_count": 469,
   "metadata": {},
   "outputs": [],
   "source": [
    "class ansatz():\n",
    "    \n",
    "    @staticmethod \n",
    "    def sequ_placements(num_qubits, depth):\n",
    "        all_pairs = [[i,j] for i in range(num_qubits) for j in range(i+1, num_qubits)]\n",
    "        complete_placements = all_pairs * (depth//len(all_pairs))\n",
    "        incomplete_placements = all_pairs[:depth%len(all_pairs)]\n",
    "        return complete_placements+incomplete_placements\n",
    "    \n",
    "    def __init__(self, num_qubits, block_type, angles=None, placements=None, pattern=None):\n",
    "        \n",
    "        self.num_qubits = num_qubits\n",
    "        self.block_type = block_type\n",
    "        \n",
    "        assert placements or pattern is not None, 'Either pattern of placements must be provided'\n",
    "        if placements is not None:\n",
    "            self.placements = placements\n",
    "        else:\n",
    "            pattern_name, depth = pattern\n",
    "            assert pattern_name == 'sequ', 'Patters other then sequ are not supported'\n",
    "            self.placements = ansatz.sequ_placements(num_qubits, depth)\n",
    "        \n",
    "        # If  angles are not provided use a an appropriate integer range.\n",
    "        if angles is None:\n",
    "            angles = list(range(3*num_qubits+4*len(self.placements)))\n",
    "        \n",
    "        self.all_angles = angles\n",
    "        self.surface_angles = jnp.array(angles[:3*num_qubits]).reshape(num_qubits, 3)\n",
    "                \n",
    "        if len(angles)>3*num_qubits:\n",
    "            self.block_angles = jnp.array(angles[3*num_qubits:]).reshape(len(self.placements), 4)\n",
    "        else:\n",
    "            self.block_angles = []\n",
    "        \n",
    "        self.pattern = pattern\n",
    "        \n",
    "    def circuit(self):\n",
    "        qc = QuantumCircuit(self.num_qubits)\n",
    "        \n",
    "        # Initial rounf of single-qubit gates\n",
    "        for n, a in enumerate(self.surface_angles):\n",
    "            qc.rz(a[0], n)\n",
    "            qc.rx(a[1], n)\n",
    "            qc.rz(a[2], n)\n",
    "        \n",
    "        # Enatgling gates accoring to placements\n",
    "        for a, p in zip(self.block_angles, self.placements):\n",
    "            qc_block = block(self.block_type, a).circuit() \n",
    "            qc = qc.compose(qc_block, p)\n",
    "            \n",
    "        return qc\n",
    "    \n",
    "    @staticmethod\n",
    "    def transposition(n, placement):\n",
    "        w = len(placement)\n",
    "        t = list(range(w, n))\n",
    "    \n",
    "        for i, p in enumerate(placement):\n",
    "            t.insert(p, i)\n",
    "    \n",
    "        return t\n",
    "    \n",
    "    @staticmethod\n",
    "    def apply_gate_to_tensor(gate, tensor, placement):\n",
    "        gate_width = int(len(gate.shape)/2)\n",
    "        tensor_width = int(len(tensor.shape)/2)\n",
    "        gate_contraction_axes = list(range(gate_width, 2*gate_width))\n",
    "        \n",
    "        contraction = jnp.tensordot(gate, tensor, axes=[gate_contraction_axes, placement])\n",
    "        t = transposition(tensor_width, placement) + list(range(tensor_width, 2*tensor_width)) # last indices are intact\n",
    "\n",
    "        return jnp.transpose(contraction, axes=t)\n",
    "        \n",
    "    \n",
    "    def unitary(self):\n",
    "        \"\"\"Construct unitary using ordinary for loops.\"\"\"\n",
    "        u = jnp.identity(2**self.num_qubits).reshape([2]*self.num_qubits*2)\n",
    "        \n",
    "        for i, a in enumerate(self.surface_angles):\n",
    "            gate = rz_mat(a[2]) @ rx_mat(a[1]) @ rz_mat(a[0])\n",
    "            u = ansatz.apply_gate_to_tensor(gate, u, [i])\n",
    "        \n",
    "        for a, p in zip(self.block_angles, self.placements):\n",
    "            gate = block(self.block_type, a).unitary().reshape(2,2,2,2)\n",
    "            u = ansatz.apply_gate_to_tensor(gate, u, p)\n",
    "        \n",
    "        return u.reshape(2**self.num_qubits, 2**self.num_qubits)\n",
    "    \n",
    "    def unitary_i(self):\n",
    "        \"\"\"Construct unitary using lax.fori_loop. Faster, but less flexible.\"\"\"\n",
    "        pattern_name, depth = self.pattern\n",
    "        assert pattern_name == 'sequ', 'iunitary is only supported for sequ pattern'\n",
    "        \n",
    "        u = jnp.identity(2**self.num_qubits).reshape([2]*self.num_qubits*2)\n",
    "        \n",
    "        # Initial round of single-qubits gates.\n",
    "        # I do not expect significant speed up from laxing this loop, so I leave it as is.\n",
    "        for i, a in enumerate(self.surface_angles):\n",
    "            gate = rz_mat(a[2]) @ rx_mat(a[1]) @ rz_mat(a[0])\n",
    "            u = ansatz.apply_gate_to_tensor(gate, u, [i])\n",
    "        \n",
    "        # Loop over complete sequ layers.\n",
    "        layer_depth = int(self.num_qubits*(self.num_qubits-1)/2) # Number of 2-qubit gates in a complete `sequ` layer.\n",
    "        num_complete_layers = len(self.block_angles) // layer_depth\n",
    "        complete_layers_angles = self.block_angles[:layer_depth*num_complete_layers].reshape(num_complete_layers, layer_depth, 4)\n",
    "        \n",
    "        def apply_layer(i, u, layers_angles):\n",
    "            angles = layers_angles[i]\n",
    "            placements = ansatz.sequ_placements(self.num_qubits, layer_depth)\n",
    "            \n",
    "            for a, p in zip(angles, placements):\n",
    "                gate = block(self.block_type, a).unitary().reshape(2,2,2,2)\n",
    "                u = ansatz.apply_gate_to_tensor(gate, u, p)\n",
    "            \n",
    "            return u\n",
    "        \n",
    "        if num_complete_layers>0:\n",
    "            u = lax.fori_loop(0, num_complete_layers, lambda i, u: apply_layer(i, u, complete_layers_angles), u)\n",
    "        \n",
    "        # Finally, add remaining gates in the last (incomplete) layer.\n",
    "        remainder_block_angles = self.block_angles[layer_depth*num_complete_layers:]\n",
    "        remainder_placements = self.placements[layer_depth*num_complete_layers:]\n",
    "        for a, p in zip(remainder_block_angles, remainder_placements):\n",
    "            gate = block(self.block_type, a).unitary().reshape(2,2,2,2)\n",
    "            u = ansatz.apply_gate_to_tensor(gate, u, p)\n",
    "            \n",
    "        return u.reshape(2**self.num_qubits, 2**self.num_qubits)"
   ]
  },
  {
   "cell_type": "markdown",
   "metadata": {
    "tags": [],
    "toc-hr-collapsed": true
   },
   "source": [
    "## Performance"
   ]
  },
  {
   "cell_type": "code",
   "execution_count": null,
   "metadata": {},
   "outputs": [],
   "source": [
    "@partial(jit, static_argnums=(1,2,))\n",
    "@grad\n",
    "def u_plain(angles, n_q, depth):\n",
    "    u = ansatz(n_q, 'cz', pattern=['sequ', depth], angles=angles).unitary()\n",
    "    return jnp.abs(u).sum()\n",
    "\n",
    "@partial(jit, static_argnums=(1,2,))\n",
    "@grad\n",
    "def u_i(angles, n_q, depth):\n",
    "    u = ansatz(n_q, 'cz', pattern=['sequ', depth], angles=angles).unitary_i()\n",
    "    return jnp.abs(u).sum()\n",
    "\n",
    "\n",
    "n_q = 5\n",
    "depth = 50\n",
    "angles = jnp.array(range(3*n_q+depth*4), dtype='float32')\n",
    "\n",
    "%%time\n",
    "test_plain = u_plain(angles, n_q, depth)\n",
    "\n",
    "%%time\n",
    "test_i = u_i(angles, n_q, depth)\n",
    "\n",
    "jnp.allclose(test_plain, test_i, atol=1e-07, rtol=1e-04)"
   ]
  }
 ],
 "metadata": {
  "kernelspec": {
   "display_name": "Python 3",
   "language": "python",
   "name": "python3"
  },
  "language_info": {
   "codemirror_mode": {
    "name": "ipython",
    "version": 3
   },
   "file_extension": ".py",
   "mimetype": "text/x-python",
   "name": "python",
   "nbconvert_exporter": "python",
   "pygments_lexer": "ipython3",
   "version": "3.8.10"
  },
  "varInspector": {
   "cols": {
    "lenName": 16,
    "lenType": 16,
    "lenVar": 40
   },
   "kernels_config": {
    "python": {
     "delete_cmd_postfix": "",
     "delete_cmd_prefix": "del ",
     "library": "var_list.py",
     "varRefreshCmd": "print(var_dic_list())"
    },
    "r": {
     "delete_cmd_postfix": ") ",
     "delete_cmd_prefix": "rm(",
     "library": "var_list.r",
     "varRefreshCmd": "cat(var_dic_list()) "
    }
   },
   "types_to_exclude": [
    "module",
    "function",
    "builtin_function_or_method",
    "instance",
    "_Feature"
   ],
   "window_display": false
  },
  "widgets": {
   "application/vnd.jupyter.widget-state+json": {
    "state": {},
    "version_major": 2,
    "version_minor": 0
   }
  }
 },
 "nbformat": 4,
 "nbformat_minor": 4
}
