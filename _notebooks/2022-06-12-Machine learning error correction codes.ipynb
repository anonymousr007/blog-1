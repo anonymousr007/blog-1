{
 "cells": [
  {
   "cell_type": "markdown",
   "metadata": {
    "tags": [],
    "toc-hr-collapsed": true
   },
   "source": [
    "# Machine learning error correction codes\n",
    "> Sweeping conceptual difficulties under the rug with a black-box approach \n",
    "- toc: true \n",
    "- badges: true\n",
    "- comments: true\n",
    "- categories: [QML, QEC]\n",
    "- image: images/slide.png"
   ]
  },
  {
   "cell_type": "code",
   "execution_count": 9,
   "metadata": {},
   "outputs": [],
   "source": [
    "#collapse\n",
    "\n",
    "from collections import namedtuple\n",
    "from functools import reduce\n",
    "from mynimize import *\n",
    "from jax.scipy.linalg import                                                                                                                                                                                                                                                                                                                                                                                                                                                                                                                                                                                                                                                                                                                                                                                                                                                                                                                                                                                                                                                                                                                                                                                                                                                                                                                                                                                                                                                                                                                                                                                                                                                                                                                                                                                                                                                                                                                                                                                                                                                                                                                                                                                                                                                                                                                                                                                                                                                                                                                                                                                                                                                                                                                                                                                                                                                                                                                                                                                                                                                                                                                                                                                                                                                                                                                                                                                                                                                                                                                                                                                                                                                                                                                                                                                                                                                                                                                                                                                                                                                                                                                                                                                                                                                                                                                                                                                                                                                                                                                                                                                                                                                                                                                                                                                                                                                                                                                                                                                                                                                                                                                                                                                                                                                                                                                                                                                                                                                                                                                                                                                                                                                                                                                                                                                                                                                                                                                                                                                                                                                                                                                                                                                                                                                                                                                                                                                                                                                                                                                                                                                                                                                                                                                                                                                                                                                                                                                                                                                                                                                                                                                                                                                                                                                                                                                                                                                                                                                                                                                                                                                                                                                                                                                                                                                                                                                                                                                                                                                                                                                                                                                                                                                                                                                                                                                                                                                                                                                                                                                                                                                                                                                                                                                                                                                                                                                                                                                                                                                                                                                                                                                                                                                                                                                                                                                                                                                                                                                                                                                                                                                                                                                                                                                                                                                                                                                                                                                                                                                                                                                                                                                                                                                                                                                                                                                                                                                                                                                                                                                                                                                                                                                                                                                                                                                                                                                                                                                                                                                                                                                                                                                                                                                                                                                                                                                                                                                                                                                                                                                                                                                                                                                                                                                                                                                                                                                                                                                                                                                                                                                                                                                                                                                                                                                                                                                                                expm\n",
    "from jax import random\n",
    "from scipy.stats import unitary_group"
   ]
  },
  {
   "cell_type": "markdown",
   "metadata": {},
   "source": [
    "# Classical repetition code"
   ]
  },
  {
   "cell_type": "markdown",
   "metadata": {},
   "source": [
    "Following 99% of error correction tutorials I will start with the classical repetition code. And you know what, I do not even feel guilty, this is a great time-tested warm up. So, we are sending a classical bit along a noisy channel and it is flipped with a probability $p$. The error probability can be suppressed if we are willing to send more bits. Namely, instead of sending `0` we send `000`, instead of `1` we send `111`. This is called _encoding_, we encoded a single _logical_ bit into several _physical_ bits. Due to errors, the message `000` can be corrupted in several ways:\n",
    "1. `000` : no corruption, with probability $(1-p)^3$\n",
    "2. `100`, `010`, `001`: single corrupted bit, with probability $3 p(1-p)^2$\n",
    "3. `110`, `011`, `101`: two corrupted bits, with probability $3 p^2(1-p)$\n",
    "4. `111`: all bits flipped, with probability $p^3$\n",
    "\n",
    "Same holds for the `111` message.\n",
    "\n",
    "Now, if the receiver sees any message except `000` or `111` he knows there was an error somewhere. He can try to fix the error by taking a majority vote, e.g. he assumes that `100` means `0` while `101` means `1`. If the single-bit errors are much more likely than two-bit or three-bit errors, this _decoding_ strategy works. More precisely, it succeeds in cases (1) and (2) but fails in cases (3) and (4). The overall success probability is therefore $(1-p)^3+3p(1-p)^2$ and for $p>1/2$ it is in fact greater than $1-p$, the success probability of the unencoded message."
   ]
  },
  {
   "cell_type": "markdown",
   "metadata": {},
   "source": [
    "# Conceptual difficulties with QECC"
   ]
  },
  {
   "cell_type": "markdown",
   "metadata": {},
   "source": [
    "Now instead of sending a classical bit we want to send a qubit, also subject to noise. Can we use a similar strategy to protect the quantum bit? Textbooks often mention several apparent problems that make the quantum case sufficiently different from the classical.\n",
    "\n",
    "1. Qubit states are continuous. Instead of sending just `0` or `1` we need to be able to send an arbitrary superposition $|\\psi\\rangle=\\alpha|0\\rangle+\\beta|1\\rangle$.\n",
    "2. As a consequence, errors are also continuous. For example, instead of a full bit flip $X$ we can have 'just a bit' of a bit flip $R_X(\\theta)=\\cos(\\theta/2)-i X \\sin(\\theta/2)$ with very small $\\theta$. There are also additional error types with no classical counterparts, such as the phase flip error $Z$. General single-qubit unitary error is a linear combination $U=\\alpha_0+\\alpha_1 X+\\alpha_2 Y+\\alpha_3 Z$.\n",
    "3. Quantum states can not be cloned. This means that for an unknown quantum state $|\\psi\\rangle$ we can not construct and transmit e.g. $|\\psi\\rangle\\otimes|\\psi\\rangle\\otimes|\\psi\\rangle$ as a plain generalization of the repetition code, although that would definitely help. \n",
    "4. When the message is received, we need to look at it to decide if there was an error an choose a correction. But looking at the quantum states can break the coherence that we were looking to preserve.\n",
    "\n",
    "We now know that all these issues can be elegantly resolved and the the modern theory of error correction is rich and beautiful. My personal agenda for this small project was to see how far can one go with a black-box approach, sweeping all conceptual problems under the rug. The main two assumptions are\n",
    "- We need to use several physical qubits to safeguard a single logical qubit.\n",
    "- We only try to protect against single-qubit errors."
   ]
  },
  {
   "cell_type": "markdown",
   "metadata": {},
   "source": [
    "# Machine learning QECC"
   ]
  },
  {
   "cell_type": "markdown",
   "metadata": {},
   "source": [
    "Here is an architecture that I have in mind.\n",
    "\n",
    "<img src=\"myimages/ecc_training/arch.svg\" alt=\"Drawing\" style=\"width: 800px;\"/>\n",
    "\n",
    "First, we embed a logical qubit into $n$ physical ones. I will do this in the simplest possible way $|\\psi\\rangle \\to |\\psi\\rangle\\otimes |0\\rangle^{n-1}$, i.e. assuming that the first physical qubit is the logical state to be transmitted while other physical qubits are initialized in $|0\\rangle$ states. The initial embedding is in fact irrelevant, because after that I allow for an arbitrary encoding transformation $U_{encoding}$. It is only required to be unitary. The encoding stage does the heavy lifting, and the encoding unitary is the main variable to be optimized. After that we add an error layer, which can consist of arbitrary single-qubit unitary errors. Then goes the decoding layer, which we will trust to recover the information about the logical qubit. I will assume that the decoding layer is also a unitary. At the final step, the physical qubit state must somehow be projected onto the single-qubit state which will be our final, received and corrected state.\n",
    "\n",
    "\n",
    "If you are familiar with quantum error correction, the assumption that decoding is a unitary operation and hence makes no explicit reference to syndrome measurements and things of that sort may look suspicious. We'll see that it works, and make some comments afterwards."
   ]
  },
  {
   "cell_type": "markdown",
   "metadata": {},
   "source": [
    "# Design choices"
   ]
  },
  {
   "cell_type": "markdown",
   "metadata": {},
   "source": [
    "## Projecting the final state"
   ]
  },
  {
   "cell_type": "markdown",
   "metadata": {},
   "source": [
    "There are still details to be filled in. One is to specify how to get a single-qubit logical state from the final state of the physical qubits. Similarly to the embedding step, I will assume that the relevant information is contained exclusively in the first physical qubit. Then, successful error correction implies that the first physical qubit is unentangled with the others after the decoding step and has the same state it had before the encoding. \n",
    "\n",
    "$$|\\psi\\rangle\\otimes |0\\rangle^{n-1} \\to \\text{Encoding+Error+Decoding} \\to |\\psi\\rangle\\otimes |e\\rangle_{n-1}$$\n",
    "\n",
    "Note that the rest of the physical qubits will end up in different states $|e\\rangle_{n-1}$ depending on the error that have been corrected. Requiring that the final state is $|\\psi\\rangle\\otimes |0\\rangle^{(n-1)}$ regardless of the error is too strong and can not be satisfied for any interesting set of errors."
   ]
  },
  {
   "cell_type": "markdown",
   "metadata": {},
   "source": [
    "## Dealing with continuum"
   ]
  },
  {
   "cell_type": "markdown",
   "metadata": {},
   "source": [
    "Next, how do we deal with the continuum of states and errors? I guess that a truly black-box approach would be to generate a large set of initial states and single-qubit errors and train the model using all this data. If successful, check on the test data to exclude overfitting. I'm sure that would work, but here I will take a shortcut and exploit the linearity of the whole construction. Denote by $U(E)$ the full unitary process that an initial state goes trough for error $E$.\n",
    "\n",
    "$$U(E)=U_{decoding}\\,\\, U_{error}(E) \\,\\, U_{encoding} \\ .$$\n",
    "\n",
    "For given initial state $|\\psi\\rangle=\\alpha |0\\rangle+\\beta |1\\rangle$ and a fixed error $E$, the final state is fixed by the action on $|0\\rangle$ and $|1\\rangle$ states\n",
    "\n",
    "$$|\\psi\\rangle\\otimes |0\\rangle^{n-1}=\\alpha\\,\\, U(E) |0\\rangle\\otimes|0\\rangle^{n-1}+\\beta\\,\\, U(E)|1\\rangle\\otimes|0\\rangle^{n-1} \\ .$$\n",
    "\n",
    "Similarly, if we can correct errors corresponding to $X, Y$ and $Z$ unitaries on a given qubit, we will be able to correct an arbitrary linear combination of them, which is unitary. Indeed, say we can correct both $X$ and $Y$ errors\n",
    "\\begin{align*}\n",
    "|\\psi\\rangle\\otimes |0\\rangle^{n-1}\\to U(X) \\to |\\psi\\rangle\\otimes |x\\rangle_{n-1} \\ ,\\\\\n",
    "|\\psi\\rangle\\otimes |0\\rangle^{n-1}\\to U(Y) \\to |\\psi\\rangle\\otimes |y\\rangle_{n-1} \\ .\n",
    "\\end{align*}\n",
    "Then their unitary linear combination will also be corrected in a sence that the state of the first physical qubit is the original encoded state\n",
    "\\begin{align*}\n",
    "|\\psi\\rangle\\otimes |0\\rangle^{n-1}\\to U(aX+bY) \\to |\\psi\\rangle\\otimes\\left(a|x\\rangle_{n-1}+b|y\\rangle_{n-1}\\right) \\ .\n",
    "\\end{align*}\n",
    "In fact, correcting $X,Y$ and $Z$ errors on any of the qubits is sufficient to correct their arbitrary linear combination, including non-unitary ones and those acting on different qubits. More on that later."
   ]
  },
  {
   "cell_type": "markdown",
   "metadata": {},
   "source": [
    "# Implementation"
   ]
  },
  {
   "cell_type": "markdown",
   "metadata": {},
   "source": [
    "Here is a code that implements the model. I do no use any quantum framework and deal with unitary matrices directly. That requires making a few tensor products here and there, but nothing cumbersome. I include the code right below in order to make this notebook/post self-contained, but do not go into detailed explanations. Here are several technical highlights though.\n",
    "- I use [JAX](https://jax.readthedocs.io/en/latest/#) as a numerical optimization backend. This why all the `jnp`s instead of `np`s.\n",
    "- I take a very low-key approach to optimization over unitary matrices, parametrizing them by Hermitian matrices $U=e^{i H}$. Basis in Hermitian matrices can be chosen to consist of $e_{ii}, e_{ij}+e_{ji}, i(e_{ij}-e_{ji})$. where $e_{ij}$ is a matrix with all elements except of one being zero. Matrix exponentiation is an expensive procedure and to scale the code to more qubits a better parametrization of the unitary group is required, e.g. as done here [QGOPT](https://github.com/LuchnikovI/QGOpt).\n",
    "- I choose the loss associated with an error correction process $U(E)$ in the following way. Let $|\\Psi_0\\rangle$ be the image of $|0\\rangle$ and $|\\Psi_1\\rangle$ of $|1\\rangle$\n",
    "$$|\\Psi_0\\rangle=U(E)|0\\rangle\\otimes |0\\rangle^{n-1},\\quad |\\Psi_1\\rangle=U(E)|1\\rangle\\otimes |0\\rangle^{n-1}\\ \\ . $$\n",
    "The loss is\n",
    "$$L(E) = 2-L_Z-L_X, \\qquad L_Z=\\langle \\Psi_0|Z_1|\\Psi_0\\rangle, \\qquad L_X=\\operatorname{Re} \\langle \\Psi_0|X_1|\\Psi_1\\rangle \\ .$$\n",
    "The term $L_Z$ is maximal $L_Z=1$ when $|\\Psi_0\\rangle=|0\\rangle \\otimes |e\\rangle_{n}$, i.e. when the $|0\\rangle$ state of the first physical qubit is preserved by the error correction. If $|0\\rangle$ is mapped to a mixed state or to a pure state different from $|0\\rangle$ we have $L_Z<1$. The term $L_X$ is maximal when the $|\\Psi_1\\rangle=X_1 |\\Psi_0\\rangle$. If $|0\\rangle\\otimes|0\\rangle^{n-1}\\to|0\\rangle \\otimes |e\\rangle_{n}$, this  condition implies that $|1\\rangle\\otimes|0\\rangle^{n-1} \\to |1\\rangle \\otimes |e\\rangle_{n}$. By linearity,  this is sufficient for an arbitray input state to be corrected when subject to this error.\n",
    "- The total loss is the sum of individual losses over all $X, Y, Z$ errors acting on each qubit\n",
    "$$L(E)=\\sum_{i=1}^{n}\\sum_{\\sigma=X,Y,Z} L(\\sigma_i) \\ .$$"
   ]
  },
  {
   "cell_type": "code",
   "execution_count": 2,
   "metadata": {},
   "outputs": [
    {
     "name": "stderr",
     "output_type": "stream",
     "text": [
      "WARNING:absl:No GPU/TPU found, falling back to CPU. (Set TF_CPP_MIN_LOG_LEVEL=0 and rerun for more info.)\n"
     ]
    }
   ],
   "source": [
    "# Pauli matrices.\n",
    "x_mat = jnp.array([[0, 1],\n",
    "                   [1, 0]])\n",
    "\n",
    "y_mat = jnp.array([[0, -1j],\n",
    "                   [1j, 0]], dtype=jnp.complex64)\n",
    "\n",
    "z_mat = jnp.array([[1, 0],\n",
    "                   [0, -1]])\n",
    "\n",
    "pauli = (jnp.identity(2), x_mat, y_mat, z_mat)\n",
    "\n",
    "\n",
    "# Parametrized unitary matrices.\n",
    "class UnitaryLayer:\n",
    "    def __init__(self, num_qubits):\n",
    "        self.num_qubits = num_qubits\n",
    "        self.num_params = 4**num_qubits\n",
    "    \n",
    "    @staticmethod\n",
    "    def hermitian_basis(num_qubits):\n",
    "        d = 2**num_qubits\n",
    "        diag_basis = [jnp.zeros((d, d), dtype=jnp.complex64).at[i, i].set(1) for i in range(d)]\n",
    "        off_diag_real_basis = [jnp.zeros((d, d), dtype=jnp.complex64).at[i, j].set(1).at[j, i].set(1) for i in range(d) for j in range(i)]\n",
    "        off_diag_im_basis = [jnp.zeros((d, d), dtype=jnp.complex64).at[i, j].set(1j).at[j, i].set(-1j) for i in range(d) for j in range(i)]\n",
    "        return jnp.array(diag_basis+off_diag_real_basis+off_diag_im_basis)\n",
    "    \n",
    "    def unitary(self, params):\n",
    "        generator = jnp.tensordot(self.hermitian_basis(self.num_qubits), params, axes=((0, ), (0, )))\n",
    "        return expm(1j*generator)\n",
    "    \n",
    "\n",
    "# Matrices corresponding individual single-qubit errors.    \n",
    "class ErrorLayer:\n",
    "    def __init__(self, num_qubits, errors=pauli):\n",
    "        self.num_qubits = num_qubits\n",
    "        self.errors = errors\n",
    "    \n",
    "    def unitary(self, q, e):\n",
    "        error_list = [self.errors[e] if i==q else jnp.identity(2) for i in range(self.num_qubits)]\n",
    "        return reduce(jnp.kron, error_list)\n",
    "        \n",
    "    def all_error_unitaries(self):\n",
    "        single_error_unitaries = [self.unitary(q, e) for q in range(self.num_qubits) for e in range(len(self.errors))]\n",
    "        id_error = jnp.identity(2**self.num_qubits)\n",
    "        return jnp.array([id_error]+single_error_unitaries)\n",
    "\n",
    "# Model parameters as a namedtuple.    \n",
    "ecc_params = namedtuple('ECCparams', ['encoding_params', 'decoding_params'])\n",
    "\n",
    "class ECCmodel:\n",
    "    def __init__(self, num_qubits, error_layer, params=None):\n",
    "        self.num_qubits = num_qubits\n",
    "        self.error_layer = error_layer\n",
    "        self.encoding_layer = UnitaryLayer(num_qubits)\n",
    "        self.decoding_layer = UnitaryLayer(num_qubits)\n",
    "        self.params = params\n",
    "    \n",
    "    @staticmethod\n",
    "    def embed(initial_state, num_qubits):\n",
    "        \"\"\"Take |psi> and output |psi>|0,0,0, ...> \"\"\"\n",
    "        return jnp.kron(initial_state, jnp.zeros(2**(num_qubits-1)).at[0].set(1))\n",
    "    \n",
    "    \n",
    "    def final_state(self, initial_state, encoding_unitary, decoding_unitary, error_unitary):\n",
    "        s = decoding_unitary @ error_unitary @ encoding_unitary @ initial_state\n",
    "        return s\n",
    "    \n",
    "    def loss(self, params, error_unitary):\n",
    "        encoding_unitary = self.encoding_layer.unitary(params.encoding_params)\n",
    "        decoding_unitary = self.decoding_layer.unitary(params.decoding_params)\n",
    "        \n",
    "        final_states = []\n",
    "        for initial_state_1q in [[1,0], [0,1]]:\n",
    "            initial_state = self.embed(jnp.array(initial_state_1q, dtype=jnp.complex64), self.num_qubits)\n",
    "            final_state = self.final_state(initial_state, encoding_unitary, decoding_unitary, error_unitary)            \n",
    "            final_states.append(final_state)\n",
    "        \n",
    "        Psi_0, Psi_1 = final_states\n",
    "        \n",
    "        X1 = reduce(jnp.kron, [x_mat]+[jnp.identity(2)]*(self.num_qubits-1))\n",
    "        Z1 = reduce(jnp.kron, [z_mat]+[jnp.identity(2)]*(self.num_qubits-1))\n",
    "        \n",
    "        Z_avg = jnp.real(Psi_0.conj() @ Z1 @ Psi_0).sum()\n",
    "        X_off_diag = (Psi_0.conj() @ X1 @ Psi_1).sum()\n",
    "        return 2-Z_avg-jnp.real(X_off_diag)\n",
    "    \n",
    "    \n",
    "    def train(self, opt_options=OptOptions(num_iterations=1000)):\n",
    "\n",
    "        error_unitaries = self.error_layer.all_error_unitaries()\n",
    "        \n",
    "        def loss(params):\n",
    "            losses = vmap(lambda error_u: self.loss(params, error_u))(error_unitaries)\n",
    "            \n",
    "            return losses.sum()/len(error_unitaries)\n",
    "        \n",
    "        initial_params = random.uniform(random.PRNGKey(opt_options.random_seed), shape=(2, self.encoding_layer.num_params))\n",
    "        initial_params = [ecc_params(initial_params[0], initial_params[1])]\n",
    "        \n",
    "        # `mynimize` is just my custom optimization routine with a JAX backend. \n",
    "        results = mynimize(loss, initial_params, opt_options)        \n",
    "        self.params = results.best_result.best_params\n",
    "        return results.best_result"
   ]
  },
  {
   "cell_type": "markdown",
   "metadata": {},
   "source": [
    "# Quantum repetition code"
   ]
  },
  {
   "cell_type": "markdown",
   "metadata": {},
   "source": [
    "It is well known that with three physical qubits one can protect a logical qubit from $X$ erorrs. Let's see if our model can do that."
   ]
  },
  {
   "cell_type": "code",
   "execution_count": 3,
   "metadata": {
    "scrolled": true
   },
   "outputs": [
    {
     "name": "stdout",
     "output_type": "stream",
     "text": [
      "CPU times: user 14.7 s, sys: 88.7 ms, total: 14.8 s\n",
      "Wall time: 14.8 s\n"
     ]
    },
    {
     "data": {
      "text/plain": [
       "Text(0.5, 1.0, 'Loss history')"
      ]
     },
     "execution_count": 3,
     "metadata": {},
     "output_type": "execute_result"
    },
    {
     "data": {
      "image/png": "[encoded data removed]",
      "text/plain": [
       "<Figure size 432x288 with 1 Axes>"
      ]
     },
     "metadata": {
      "needs_background": "light"
     },
     "output_type": "display_data"
    }
   ],
   "source": [
    "%%time\n",
    "\n",
    "num_qubits = 3\n",
    "error_layer = ErrorLayer(num_qubits, errors=[x_mat])\n",
    "\n",
    "model = ECCmodel(num_qubits, error_layer)\n",
    "result = model.train(OptOptions(num_iterations=1000))\n",
    "\n",
    "result.plot_loss_history();\n",
    "plt.xlabel('Iteration');\n",
    "plt.title('Loss history');"
   ]
  },
  {
   "cell_type": "markdown",
   "metadata": {},
   "source": [
    "OK, the optimization is clearly successfull. Of course there is always a chance that there are mistakes in the code or in the definition of the loss function itself. I will give a more thorough verification for the 5-qubit code later. By modifying and re-running the cell above you can also do some simple sanity checks -- see if the same results can be achieved with fewer qubits (`num_qubits`$\\to$2) or if more errors can be corrected (`errors`$\\to$`[x_mat, y_mat]`). Neither works, of course."
   ]
  },
  {
   "cell_type": "markdown",
   "metadata": {},
   "source": [
    "# Standard description of the quantum repetition code"
   ]
  },
  {
   "cell_type": "markdown",
   "metadata": {},
   "source": [
    "Now that we have seen that a black-box approach works (you are welcome to challenge this claim, of course) it is instructive to revisit the usual construction of the error correcting codes. Here is how the quantum repetition code, which is able to correct $X$ errors, works. Encoding is done as follows\n",
    "\n",
    "$$|\\psi\\rangle=\\alpha|0\\rangle+\\beta|1\\rangle\\to \\alpha |000\\rangle+\\beta|111\\rangle \\ .$$\n",
    "\n",
    "This does not violate the no-cloning theorem because the new state is not $|\\psi\\rangle\\otimes|\\psi\\rangle\\otimes|\\psi\\rangle$. Coefficients $\\alpha$ and $\\beta$, which define the state, are not copied. This encoding can be done with the following circuit \n",
    "\n",
    "<img src=\"myimages/ecc_training/ghz.png\" alt=\"Drawing\" style=\"width: 150px;\"/>\n",
    "\n",
    "Now say there was an $X$ error acting on the first qubit during the transmission\n",
    "$$\\alpha |000\\rangle+\\beta|111\\rangle\\to X_1 \\to \\alpha |100\\rangle+\\beta|011\\rangle$$\n",
    "Can we detect an correct it? The problem is that measuring any of the qubits individually destroys their coherent superposition. A workaround is to make collective measurements $Z_1Z_2$ and $Z_1Z_3$, known as parity checks. Both terms in the corrupted decomposition have the same eigenvalues and hence coherence is preserved. Parity checks allow to identify qubit 1 as corrupted, and correct the error by applying $X_1$. "
   ]
  },
  {
   "cell_type": "markdown",
   "metadata": {},
   "source": [
    "# Can we do without a measurment?"
   ]
  },
  {
   "cell_type": "markdown",
   "metadata": {},
   "source": [
    "Measuments and post-selected correction operators were not part of our model, where the decoder is unitary. Is there something wrong with our approach, or measurements are not strictly necessary? I do think they aren't, but you would not be able to tell from most of the introductory literature. To illustrate the situation for the repetition code, I came up with the following unitary circuit, whihc can correct/decode any single $X$ error in the repetition code\n",
    "\n",
    "<img src=\"myimages/ecc_training/dec.png\" alt=\"Drawing\" style=\"width: 200px;\"/>\n",
    "\n",
    "It is straightfowrad to check that it transforms vectors with single $X$ errors as follows.\n",
    "\\begin{align*}\n",
    "I_{}:\\quad |000\\rangle\\to |000\\rangle,\\quad |111\\rangle\\to |100\\rangle\\\\\n",
    "X_1:\\quad|100\\rangle\\to |011\\rangle,\\quad |011\\rangle\\to |111\\rangle\\\\\n",
    "X_2:\\quad|010\\rangle\\to |101\\rangle,\\quad |010\\rangle\\to |110\\rangle\\\\\n",
    "X_3:\\quad|001\\rangle\\to |001\\rangle,\\quad |110\\rangle\\to |101\\rangle\\\\\n",
    "\\end{align*}\n",
    "Improtant things to note here are that the first qubit value becomes the majority vote, while two other qubit registers agree within the same line. I do not claim that our numerica optimization above discover exactly this circuit and or the repetition encoding, but it must be something equivalent."
   ]
  },
  {
   "cell_type": "markdown",
   "metadata": {},
   "source": [
    "# 5 qubit code"
   ]
  },
  {
   "cell_type": "markdown",
   "metadata": {},
   "source": [
    "The smallest amount of physical qubits that can correct against arbitrary single-qubit errors is known to be 5. Let me sketch a proof. Please! No, it's not needed to make my points, I just like it a lot. OK? Great! \n",
    "\n",
    "If a code can correct an arbitrary single-qubit error, it can also recover from the loss of two qubits.\n",
    "If we'd have an ECC with just four qubits, we could separate them into two groups 4=2+2. Each group could recover the encoded state, which produces two copies of it. This violates the no-cloning theorem! Lowering the number of qubits does not help, of course.\n",
    "\n",
    "OK, let's train the model on with 5 physical qubits and the error operators that span all single-qubit errors."
   ]
  },
  {
   "cell_type": "code",
   "execution_count": 4,
   "metadata": {},
   "outputs": [
    {
     "name": "stdout",
     "output_type": "stream",
     "text": [
      "CPU times: user 2min 22s, sys: 1.01 s, total: 2min 23s\n",
      "Wall time: 2min 21s\n"
     ]
    },
    {
     "data": {
      "text/plain": [
       "Text(0.5, 1.0, 'Loss history')"
      ]
     },
     "execution_count": 4,
     "metadata": {},
     "output_type": "execute_result"
    },
    {
     "data": {
      "image/png": "[encoded data removed]",
      "text/plain": [
       "<Figure size 432x288 with 1 Axes>"
      ]
     },
     "metadata": {
      "needs_background": "light"
     },
     "output_type": "display_data"
    }
   ],
   "source": [
    "%%time\n",
    "\n",
    "num_qubits = 5\n",
    "error_layer = ErrorLayer(num_qubits, errors=[x_mat, y_mat, z_mat])\n",
    "\n",
    "model = ECCmodel(num_qubits, error_layer)\n",
    "result = model.train(OptOptions(num_iterations=1000))\n",
    "\n",
    "result.plot_loss_history();\n",
    "plt.xlabel('Iteration');\n",
    "plt.title('Loss history');"
   ]
  },
  {
   "cell_type": "markdown",
   "metadata": {},
   "source": [
    "The loss function indicates that our model learns 5-qubit ECC. You may want to check that it does not work with fewer qubits, e.g. `num_qubits`$\\to$4. Another empirical observation is that if the model is trained on $X$ and $Z$ errors only, it will be able to correct $Y$ errors as well (passes verification below). This does not seem to be guarantied in general, as [counter-examples](https://quantumcomputing.stackexchange.com/questions/26846/if-a-quantum-error-correcting-code-corrects-both-x-and-z-errors-will-it-be) exist."
   ]
  },
  {
   "cell_type": "markdown",
   "metadata": {},
   "source": [
    "# Verification"
   ]
  },
  {
   "cell_type": "markdown",
   "metadata": {},
   "source": [
    "To convince you and myself that the loss plot above does reflect learning a genuine ECC here I will carry an independent check. First let me note that the way errors enter in the model we trained is not completely general. The most general evolution of the initial state under an interaction with an environment is described by a quantum channel\n",
    "\n",
    "$$|\\psi\\rangle\\to \\rho = \\operatorname{Tr}_{n-1}\\sum {M_a}|\\Psi\\rangle\\langle\\Psi|M_a^\\dagger,\\qquad |\\Psi\\rangle=|\\psi\\rangle\\otimes |0\\rangle^{n-1} .$$\n",
    "\n",
    "Here $\\rho$ is the final density matrix of the first physical qubit, which by our assumption corresponds to the logical qubit after error correction process. The partial trace is taken with respect to the other physical qubits. Matrices $M_a$ are called Kraus operators and could be thought of as a combination\n",
    "$$M_a = U_{decoding} E_a U_{encoding} \\ .$$\n",
    "We trained our model on cases where the error part $E_a$ in each Kraus operator $M_a$ is a single Pauli operator acting on some qubit, e.g. $E_a=X_2$. A general single-qubit error corresponds to each $E_a$ being a linear combination of single-qubit unitaries\n",
    "$$E_a=\\sum_{i=1}^{n} c_{ai} U_i.$$\n",
    "For example, one of them could be something like $E_1 = c_{11}(0.13 X_1+2.7 Y_1)+c_{12} Z_2 + c_{13} (Y_1-0.55 Z_1)$. Kraus operators are not required to be unitary, but only to satisfy the completeness relation $\\sum M_a^\\dagger M_a=1$. Our model was trained so that $M_a |\\Psi\\rangle=|\\psi\\rangle \\otimes |\\text{some state}\\rangle$ when $M_a$ only contains Pauli errors acting on a single qubit. However, this equation extends to arbitrary single-qubit errors by linearity.\n",
    "\n",
    "To perform an independent check I generate a bunch of initial states and generic single-qubit errors $E_a$. I will restrict to channels with single (non-normalized) Kraus operators for simplicity. If (normalized) density matrices\n",
    "$$ \\rho_a=\\frac{M_a|\\Psi\\rangle\\langle\\Psi|M_a^\\dagger}{\\langle \\Psi|M_a^\\dagger M_a|\\Psi\\rangle} $$\n",
    "reproduce the correlators of the original state for any $M_a$, they surely do for any sum over $M_a$. Thus, I will check that\n",
    "\n",
    "$$\\langle\\psi|X|\\psi\\rangle=\\operatorname{tr}\\rho_a X,\\quad \\langle\\psi|Y|\\psi\\rangle=\\operatorname{tr}\\rho_a Y,\\quad \\langle\\psi|Z|\\psi\\rangle=\\operatorname{tr}\\rho_a Z .$$\n",
    "\n",
    "Thus, we'll do full state tomography on a single qubit. This of course should be equivalent to the loss function we used during training, but I think reformulation is useful as an additional consistency check."
   ]
  },
  {
   "cell_type": "code",
   "execution_count": 12,
   "metadata": {},
   "outputs": [],
   "source": [
    "# Random seed, JAX-style\n",
    "key, *keys = random.split(random.PRNGKey(0), 3)\n",
    "\n",
    "# Sample sizes.\n",
    "num_qubits = model.num_qubits\n",
    "num_initial_states = 100\n",
    "num_errors = 100\n",
    "\n",
    "# Initial states, drawn at random and normalized.\n",
    "\n",
    "initial_states = random.uniform(keys[0], shape=(2, num_initial_states, 2)) # 2x real components\n",
    "initial_states = initial_states[0]+1j*initial_states[1] # combine into 1x complext components\n",
    "\n",
    "def norm_state(s):\n",
    "    return jnp.sqrt(jnp.real(s.conj()*s).sum())\n",
    "\n",
    "norms = [norm_state(s) for s in initial_states]\n",
    "initial_states = [s/norm_state(s) for s in initial_states]\n",
    "\n",
    "### Defining random linear combinations of single-qubits errors is a bit cumbersome, but purely technical.\n",
    "\n",
    "# Random single-qubit errors.\n",
    "random_1q_unitaries = unitary_group.rvs(2, size=num_errors*num_qubits).reshape(num_errors, num_qubits, 2, 2)\n",
    "random_coefficients = random.uniform(keys[1], (num_errors, num_qubits))\n",
    "\n",
    "\n",
    "def error_at_position(error_u, i, num_qubits):\n",
    "    \"\"\"Takes U and returns tensor product 1 x 1 x ... U x 1 ... x 1 with U at position i.\"\"\"\n",
    "    ops = [jnp.identity(2)]*num_qubits\n",
    "    ops[i] = error_u\n",
    "    return reduce(jnp.kron, ops)\n",
    "\n",
    "def make_error_operator(errors, coeffs):   \n",
    "    \"\"\"Takes a list of 1q errors and puts error 1 on qubit 1, error 2 on qubit 2, etc, then takes their liner combination.\"\"\"\n",
    "    num_qubits = len(errors)\n",
    "    full_errors = [error_at_position(u, i, num_qubits) for i, u in enumerate(errors)]\n",
    "    \n",
    "    return sum([u*c for u, c in zip(full_errors, coeffs)])\n",
    "\n",
    "errors = [make_error_operator(errors, coeffs) for errors, coeffs in zip(random_1q_unitaries, random_coefficients)]\n",
    "errors = jnp.array(errors)"
   ]
  },
  {
   "cell_type": "markdown",
   "metadata": {},
   "source": [
    "So finally we have a bunch of initial states and general (non-unitary) single-qubit error operators. Let's see directly the the model is able to correct them."
   ]
  },
  {
   "cell_type": "code",
   "execution_count": 5,
   "metadata": {},
   "outputs": [
    {
     "data": {
      "text/plain": [
       "DeviceArray(4.3243367e-07, dtype=float32)"
      ]
     },
     "execution_count": 5,
     "metadata": {},
     "output_type": "execute_result"
    }
   ],
   "source": [
    "params = model.params\n",
    "\n",
    "u_encoding = model.encoding_layer.unitary(params.encoding_params)\n",
    "u_decoding = model.decoding_layer.unitary(params.decoding_params)\n",
    "\n",
    "def density_matrix(s):\n",
    "    \"\"\"Density matrix of the first qubit.\"\"\"\n",
    "    rho_full = jnp.outer(s, s.conj())\n",
    "    \n",
    "\n",
    "def tomography_loss(initial_state, error_u):\n",
    "    final_state = u_decoding @ error_u @ u_encoding @ ECCmodel.embed(initial_state, num_qubits)\n",
    "\n",
    "    pauli_averages_initial = [(initial_state.conj() @ p @ initial_state).sum() for p in [x_mat, y_mat, z_mat]]\n",
    "    pauli_averages_final = [(final_state.conj() @ jnp.kron(p, jnp.identity(2**(num_qubits-1))) @ final_state).sum() for p in pauli[1:]]\n",
    "    \n",
    "    total = sum([(avg_i - avg_f)**2 for avg_i, avg_f in zip(pauli_averages_initial, pauli_averages_final)])\n",
    "    return jnp.real(total)\n",
    "\n",
    "\n",
    "losses = [tomography_loss(s, u) for s in initial_states for u in errors]\n",
    "sum(losses)/len(losses)"
   ]
  }
 ],
 "metadata": {
  "kernelspec": {
   "display_name": "Python 3",
   "language": "python",
   "name": "python3"
  },
  "language_info": {
   "codemirror_mode": {
    "name": "ipython",
    "version": 3
   },
   "file_extension": ".py",
   "mimetype": "text/x-python",
   "name": "python",
   "nbconvert_exporter": "python",
   "pygments_lexer": "ipython3",
   "version": "3.8.10"
  },
  "varInspector": {
   "cols": {
    "lenName": 16,
    "lenType": 16,
    "lenVar": 40
   },
   "kernels_config": {
    "python": {
     "delete_cmd_postfix": "",
     "delete_cmd_prefix": "del ",
     "library": "var_list.py",
     "varRefreshCmd": "print(var_dic_list())"
    },
    "r": {
     "delete_cmd_postfix": ") ",
     "delete_cmd_prefix": "rm(",
     "library": "var_list.r",
     "varRefreshCmd": "cat(var_dic_list()) "
    }
   },
   "types_to_exclude": [
    "module",
    "function",
    "builtin_function_or_method",
    "instance",
    "_Feature"
   ],
   "window_display": false
  },
  "widgets": {
   "application/vnd.jupyter.widget-state+json": {
    "state": {},
    "version_major": 2,
    "version_minor": 0
   }
  }
 },
 "nbformat": 4,
 "nbformat_minor": 4
}
