{
 "cells": [
  {
   "cell_type": "markdown",
   "id": "9c90cddb-d5c5-4c20-8085-6e109818ab9d",
   "metadata": {},
   "source": [
    "# What is entanglement\n",
    "# Fastpages Notebook Blog Post\n",
    "> A tutorial of fastpages for Jupyter notebooks.\n",
    "\n",
    "- toc: true \n",
    "- badges: true\n",
    "- comments: true\n",
    "- categories: [jupyter]\n",
    "- image: images/chart-preview.png\n",
    "So what is entanglement? Entanglement is what entangled states have. What are those? Take two spins. The state \n",
    "\n",
    "...\n",
    "\n",
    "is your canonical example of an entangled stated. In contrast, all the states below are *unentangled* \n",
    "\n",
    "...\n",
    "\n",
    "\n"
   ]
  }
 ],
 "metadata": {
  "kernelspec": {
   "display_name": "Python 3",
   "language": "python",
   "name": "python3"
  },
  "language_info": {
   "codemirror_mode": {
    "name": "ipython",
    "version": 3
   },
   "file_extension": ".py",
   "mimetype": "text/x-python",
   "name": "python",
   "nbconvert_exporter": "python",
   "pygments_lexer": "ipython3",
   "version": "3.8.10"
  },
  "widgets": {
   "application/vnd.jupyter.widget-state+json": {
    "state": {},
    "version_major": 2,
    "version_minor": 0
   }
  }
 },
 "nbformat": 4,
 "nbformat_minor": 5
}
