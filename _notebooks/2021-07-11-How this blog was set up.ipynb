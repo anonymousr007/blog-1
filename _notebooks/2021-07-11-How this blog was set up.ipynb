{
 "cells": [
  {
   "cell_type": "markdown",
   "metadata": {},
   "source": [
    "# How was this blog set up?\n",
    ">Smoothly with fastpages except a couple of caveats.\n",
    "\n",
    "- toc: true \n",
    "- badges: true\n",
    "- comments: true\n",
    "- categories: [fastpages]\n",
    "- image: images/logo.png"
   ]
  },
  {
   "cell_type": "markdown",
   "metadata": {},
   "source": [
    "# Why `fastpages`?\n",
    "After deciding to start a scientific blog I was looking for an appropriate technical solution. My main requirements were\n",
    "- Ease of set up.\n",
    "- Ease of writing posts.\n",
    "- Decent support of $\\LaTeX$.\n",
    "- Support of code snippets.\n",
    "\n",
    "After some search I decided to try out [fastpages](https://github.com/fastai/fastpages). I have a very limited understanding of the stack that `fastpages` use, so I treat it as a magic box. The magic box was easy for me to install while other bullet points are addressed all at once since `fastpages` allows to generate a post from a `jupyter notebook`. Although `jupyter notebook` is not exactly my favorite $\\LaTeX$ editor it still much better than many other options and a good overall compromise. So essentially with `fastpages` you can write your posts in `jupyter notebook`, then commit to your `github` repository and the content will automatically be hosted at your domain on [github pages](https://pages.github.com/).\n",
    "\n",
    "# Caveats\n",
    "Following [official installation](https://github.com/fastai/fastpages#setup-instructions) worked smoothly for me. While customizing the blog further for my purposes there were several things that did not work right of the box of took some time to find out how to change:\n",
    "\n",
    "## Solved\n",
    "1. I wanted to use numbered $\\LaTeX$ equations with hyperlinks, which are not easily supported. This [comment](https://forums.fast.ai/t/consider-setting-use-math-to-true-by-default/64276/6) solved my problem! \n",
    "1. You need to edit `_pages/about.md` to customize the way your \"about\" page is displayed.\n",
    "1. To customize the front page you need to edit `index.html`. This is literally written on the front page of your blog, but I have not noticed it for a while.\n",
    "1. Initially a lot of troubleshooting is needed to get the appearance of the blog I wanted. Commiting and waiting for the online web page to set up is super-slow. Here is an [official guide](https://github.com/fastai/fastpages/blob/master/_fastpages_docs/DEVELOPMENT.md#converting-the-pages-locally) on how to setup a live preview of your blog locally. One minor point that was a problem for me is that the default local server for blog preview  https://127.0.0.1:4000 was not correct. After running `sudo make server` one of the outputs that `jekyll` produces is `Server address:` http://0.0.0.0:4000/blog/ which was the correct address for the live preview of my blog.\n",
    "\n",
    "## Not solved\n",
    "1. On the web page the display equations of $\\LaTeX$ have fluctuations in size which does not look good."
   ]
  }
 ],
 "metadata": {
  "kernelspec": {
   "display_name": "Python 3",
   "language": "python",
   "name": "python3"
  },
  "language_info": {
   "codemirror_mode": {
    "name": "ipython",
    "version": 3
   },
   "file_extension": ".py",
   "mimetype": "text/x-python",
   "name": "python",
   "nbconvert_exporter": "python",
   "pygments_lexer": "ipython3",
   "version": "3.8.10"
  },
  "varInspector": {
   "cols": {
    "lenName": 16,
    "lenType": 16,
    "lenVar": 40
   },
   "kernels_config": {
    "python": {
     "delete_cmd_postfix": "",
     "delete_cmd_prefix": "del ",
     "library": "var_list.py",
     "varRefreshCmd": "print(var_dic_list())"
    },
    "r": {
     "delete_cmd_postfix": ") ",
     "delete_cmd_prefix": "rm(",
     "library": "var_list.r",
     "varRefreshCmd": "cat(var_dic_list()) "
    }
   },
   "types_to_exclude": [
    "module",
    "function",
    "builtin_function_or_method",
    "instance",
    "_Feature"
   ],
   "window_display": false
  }
 },
 "nbformat": 4,
 "nbformat_minor": 4
}
